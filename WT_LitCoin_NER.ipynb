{
 "cells": [
  {
   "cell_type": "code",
   "execution_count": 1,
   "id": "d0122fa5-ca48-45a2-9a1d-0e284bdba367",
   "metadata": {},
   "outputs": [
    {
     "name": "stderr",
     "output_type": "stream",
     "text": [
      "[NeMo W 2022-02-18 22:49:27 experimental:27] Module <class 'nemo.collections.nlp.data.text_normalization.decoder_dataset.TextNormalizationDecoderDataset'> is experimental, not ready for production and is not fully supported. Use at your own risk.\n",
      "[NeMo W 2022-02-18 22:49:27 experimental:27] Module <class 'nemo.collections.nlp.data.text_normalization.tagger_dataset.TextNormalizationTaggerDataset'> is experimental, not ready for production and is not fully supported. Use at your own risk.\n",
      "[NeMo W 2022-02-18 22:49:27 experimental:27] Module <class 'nemo.collections.nlp.data.text_normalization.test_dataset.TextNormalizationTestDataset'> is experimental, not ready for production and is not fully supported. Use at your own risk.\n",
      "################################################################################\n",
      "### WARNING, path does not exist: KALDI_ROOT=/mnt/matylda5/iveselyk/Tools/kaldi-trunk\n",
      "###          (please add 'export KALDI_ROOT=<your_path>' in your $HOME/.profile)\n",
      "###          (or run as: KALDI_ROOT=<your_path> python <your_script>.py)\n",
      "################################################################################\n",
      "\n",
      "[NeMo W 2022-02-18 22:49:27 experimental:27] Module <class 'nemo.collections.asr.data.audio_to_text_dali._AudioTextDALIDataset'> is experimental, not ready for production and is not fully supported. Use at your own risk.\n",
      "[nltk_data] Downloading package punkt to /root/nltk_data...\n",
      "[nltk_data]   Package punkt is already up-to-date!\n",
      "[NeMo W 2022-02-18 22:49:27 experimental:27] Module <class 'nemo.collections.nlp.models.duplex_text_normalization.duplex_decoder.DuplexDecoderModel'> is experimental, not ready for production and is not fully supported. Use at your own risk.\n",
      "[nltk_data] Downloading package punkt to /root/nltk_data...\n",
      "[nltk_data]   Package punkt is already up-to-date!\n",
      "[NeMo W 2022-02-18 22:49:27 experimental:27] Module <class 'nemo.collections.nlp.models.duplex_text_normalization.duplex_tagger.DuplexTaggerModel'> is experimental, not ready for production and is not fully supported. Use at your own risk.\n",
      "[NeMo W 2022-02-18 22:49:27 experimental:27] Module <class 'nemo.collections.nlp.models.duplex_text_normalization.duplex_tn.DuplexTextNormalizationModel'> is experimental, not ready for production and is not fully supported. Use at your own risk.\n"
     ]
    }
   ],
   "source": [
    "import pandas as pd\n",
    "from sklearn.model_selection import train_test_split\n",
    "from tqdm import tqdm\n",
    "import wget\n",
    "import os\n",
    "import torch\n",
    "import pytorch_lightning as pl\n",
    "from omegaconf import OmegaConf\n",
    "from nemo.collections import nlp as nemo_nlp\n",
    "from nemo.utils.exp_manager import exp_manager"
   ]
  },
  {
   "cell_type": "code",
   "execution_count": 2,
   "id": "7f4374be-d284-4ace-8d67-10dd7a0f2078",
   "metadata": {},
   "outputs": [
    {
     "data": {
      "text/html": [
       "<div>\n",
       "<style scoped>\n",
       "    .dataframe tbody tr th:only-of-type {\n",
       "        vertical-align: middle;\n",
       "    }\n",
       "\n",
       "    .dataframe tbody tr th {\n",
       "        vertical-align: top;\n",
       "    }\n",
       "\n",
       "    .dataframe thead th {\n",
       "        text-align: right;\n",
       "    }\n",
       "</style>\n",
       "<table border=\"1\" class=\"dataframe\">\n",
       "  <thead>\n",
       "    <tr style=\"text-align: right;\">\n",
       "      <th></th>\n",
       "      <th>abstract_id</th>\n",
       "      <th>title</th>\n",
       "      <th>abstract</th>\n",
       "    </tr>\n",
       "  </thead>\n",
       "  <tbody>\n",
       "    <tr>\n",
       "      <th>0</th>\n",
       "      <td>1353340</td>\n",
       "      <td>Late-onset metachromatic leukodystrophy: molec...</td>\n",
       "      <td>We report on a new allele at the arylsulfatase...</td>\n",
       "    </tr>\n",
       "    <tr>\n",
       "      <th>1</th>\n",
       "      <td>1671881</td>\n",
       "      <td>Two distinct mutations at a single BamHI site ...</td>\n",
       "      <td>Classical phenylketonuria is an autosomal rece...</td>\n",
       "    </tr>\n",
       "    <tr>\n",
       "      <th>2</th>\n",
       "      <td>1848636</td>\n",
       "      <td>Debrisoquine phenotype and the pharmacokinetic...</td>\n",
       "      <td>The metabolism of the cardioselective beta-blo...</td>\n",
       "    </tr>\n",
       "    <tr>\n",
       "      <th>3</th>\n",
       "      <td>2422478</td>\n",
       "      <td>Midline B3 serotonin nerves in rat medulla are...</td>\n",
       "      <td>Previous experiments in this laboratory have s...</td>\n",
       "    </tr>\n",
       "    <tr>\n",
       "      <th>4</th>\n",
       "      <td>2491010</td>\n",
       "      <td>Molecular and phenotypic analysis of patients ...</td>\n",
       "      <td>Eighty unrelated individuals with Duchenne mus...</td>\n",
       "    </tr>\n",
       "    <tr>\n",
       "      <th>...</th>\n",
       "      <td>...</td>\n",
       "      <td>...</td>\n",
       "      <td>...</td>\n",
       "    </tr>\n",
       "    <tr>\n",
       "      <th>395</th>\n",
       "      <td>28851297</td>\n",
       "      <td>An Ag-globin G-&gt;A gene polymorphism associated...</td>\n",
       "      <td>BACKGROUND: Increase of the expression of g-gl...</td>\n",
       "    </tr>\n",
       "    <tr>\n",
       "      <th>396</th>\n",
       "      <td>28883039</td>\n",
       "      <td>Disease-associated mutations in human BICD2 hy...</td>\n",
       "      <td>Bicaudal D2 (BICD2) joins dynein with dynactin...</td>\n",
       "    </tr>\n",
       "    <tr>\n",
       "      <th>397</th>\n",
       "      <td>29049388</td>\n",
       "      <td>An inducible mouse model of podocin-mutation-r...</td>\n",
       "      <td>Mutations in the NPHS2 gene, encoding podocin,...</td>\n",
       "    </tr>\n",
       "    <tr>\n",
       "      <th>398</th>\n",
       "      <td>29183288</td>\n",
       "      <td>Arginase 1 deletion in myeloid cells affects t...</td>\n",
       "      <td>BACKGROUND: (Over-)expression of arginase may ...</td>\n",
       "    </tr>\n",
       "    <tr>\n",
       "      <th>399</th>\n",
       "      <td>30836660</td>\n",
       "      <td>Salidroside Ameliorates Renal Interstitial Fib...</td>\n",
       "      <td>Salidroside (Sal) is an active ingredient that...</td>\n",
       "    </tr>\n",
       "  </tbody>\n",
       "</table>\n",
       "<p>400 rows × 3 columns</p>\n",
       "</div>"
      ],
      "text/plain": [
       "     abstract_id                                              title  \\\n",
       "0        1353340  Late-onset metachromatic leukodystrophy: molec...   \n",
       "1        1671881  Two distinct mutations at a single BamHI site ...   \n",
       "2        1848636  Debrisoquine phenotype and the pharmacokinetic...   \n",
       "3        2422478  Midline B3 serotonin nerves in rat medulla are...   \n",
       "4        2491010  Molecular and phenotypic analysis of patients ...   \n",
       "..           ...                                                ...   \n",
       "395     28851297  An Ag-globin G->A gene polymorphism associated...   \n",
       "396     28883039  Disease-associated mutations in human BICD2 hy...   \n",
       "397     29049388  An inducible mouse model of podocin-mutation-r...   \n",
       "398     29183288  Arginase 1 deletion in myeloid cells affects t...   \n",
       "399     30836660  Salidroside Ameliorates Renal Interstitial Fib...   \n",
       "\n",
       "                                              abstract  \n",
       "0    We report on a new allele at the arylsulfatase...  \n",
       "1    Classical phenylketonuria is an autosomal rece...  \n",
       "2    The metabolism of the cardioselective beta-blo...  \n",
       "3    Previous experiments in this laboratory have s...  \n",
       "4    Eighty unrelated individuals with Duchenne mus...  \n",
       "..                                                 ...  \n",
       "395  BACKGROUND: Increase of the expression of g-gl...  \n",
       "396  Bicaudal D2 (BICD2) joins dynein with dynactin...  \n",
       "397  Mutations in the NPHS2 gene, encoding podocin,...  \n",
       "398  BACKGROUND: (Over-)expression of arginase may ...  \n",
       "399  Salidroside (Sal) is an active ingredient that...  \n",
       "\n",
       "[400 rows x 3 columns]"
      ]
     },
     "execution_count": 2,
     "metadata": {},
     "output_type": "execute_result"
    }
   ],
   "source": [
    "abstracts_train = pd.read_csv('abstracts_train.csv', sep='\\t')\n",
    "abstracts_train"
   ]
  },
  {
   "cell_type": "code",
   "execution_count": 3,
   "id": "d7212f2c-4caf-455c-a782-536713762cd2",
   "metadata": {},
   "outputs": [
    {
     "data": {
      "text/html": [
       "<div>\n",
       "<style scoped>\n",
       "    .dataframe tbody tr th:only-of-type {\n",
       "        vertical-align: middle;\n",
       "    }\n",
       "\n",
       "    .dataframe tbody tr th {\n",
       "        vertical-align: top;\n",
       "    }\n",
       "\n",
       "    .dataframe thead th {\n",
       "        text-align: right;\n",
       "    }\n",
       "</style>\n",
       "<table border=\"1\" class=\"dataframe\">\n",
       "  <thead>\n",
       "    <tr style=\"text-align: right;\">\n",
       "      <th></th>\n",
       "      <th>id</th>\n",
       "      <th>abstract_id</th>\n",
       "      <th>offset_start</th>\n",
       "      <th>offset_finish</th>\n",
       "      <th>type</th>\n",
       "      <th>mention</th>\n",
       "      <th>entity_ids</th>\n",
       "    </tr>\n",
       "  </thead>\n",
       "  <tbody>\n",
       "    <tr>\n",
       "      <th>0</th>\n",
       "      <td>0</td>\n",
       "      <td>1353340</td>\n",
       "      <td>11</td>\n",
       "      <td>39</td>\n",
       "      <td>DiseaseOrPhenotypicFeature</td>\n",
       "      <td>metachromatic leukodystrophy</td>\n",
       "      <td>D007966</td>\n",
       "    </tr>\n",
       "    <tr>\n",
       "      <th>1</th>\n",
       "      <td>1</td>\n",
       "      <td>1353340</td>\n",
       "      <td>111</td>\n",
       "      <td>126</td>\n",
       "      <td>GeneOrGeneProduct</td>\n",
       "      <td>arylsulfatase A</td>\n",
       "      <td>410</td>\n",
       "    </tr>\n",
       "    <tr>\n",
       "      <th>2</th>\n",
       "      <td>2</td>\n",
       "      <td>1353340</td>\n",
       "      <td>128</td>\n",
       "      <td>132</td>\n",
       "      <td>GeneOrGeneProduct</td>\n",
       "      <td>ARSA</td>\n",
       "      <td>410</td>\n",
       "    </tr>\n",
       "    <tr>\n",
       "      <th>3</th>\n",
       "      <td>3</td>\n",
       "      <td>1353340</td>\n",
       "      <td>159</td>\n",
       "      <td>187</td>\n",
       "      <td>DiseaseOrPhenotypicFeature</td>\n",
       "      <td>metachromatic leukodystrophy</td>\n",
       "      <td>D007966</td>\n",
       "    </tr>\n",
       "    <tr>\n",
       "      <th>4</th>\n",
       "      <td>4</td>\n",
       "      <td>1353340</td>\n",
       "      <td>189</td>\n",
       "      <td>192</td>\n",
       "      <td>DiseaseOrPhenotypicFeature</td>\n",
       "      <td>MLD</td>\n",
       "      <td>D007966</td>\n",
       "    </tr>\n",
       "    <tr>\n",
       "      <th>...</th>\n",
       "      <td>...</td>\n",
       "      <td>...</td>\n",
       "      <td>...</td>\n",
       "      <td>...</td>\n",
       "      <td>...</td>\n",
       "      <td>...</td>\n",
       "      <td>...</td>\n",
       "    </tr>\n",
       "    <tr>\n",
       "      <th>13631</th>\n",
       "      <td>13631</td>\n",
       "      <td>30836660</td>\n",
       "      <td>2237</td>\n",
       "      <td>2241</td>\n",
       "      <td>GeneOrGeneProduct</td>\n",
       "      <td>TLR4</td>\n",
       "      <td>21898,7099</td>\n",
       "    </tr>\n",
       "    <tr>\n",
       "      <th>13632</th>\n",
       "      <td>13632</td>\n",
       "      <td>30836660</td>\n",
       "      <td>2242</td>\n",
       "      <td>2251</td>\n",
       "      <td>GeneOrGeneProduct</td>\n",
       "      <td>NF-kappaB</td>\n",
       "      <td>18033,4790</td>\n",
       "    </tr>\n",
       "    <tr>\n",
       "      <th>13633</th>\n",
       "      <td>13633</td>\n",
       "      <td>30836660</td>\n",
       "      <td>2256</td>\n",
       "      <td>2260</td>\n",
       "      <td>GeneOrGeneProduct</td>\n",
       "      <td>MAPK</td>\n",
       "      <td>26413,5594</td>\n",
       "    </tr>\n",
       "    <tr>\n",
       "      <th>13634</th>\n",
       "      <td>13634</td>\n",
       "      <td>30836660</td>\n",
       "      <td>2344</td>\n",
       "      <td>2347</td>\n",
       "      <td>ChemicalEntity</td>\n",
       "      <td>Sal</td>\n",
       "      <td>C009172</td>\n",
       "    </tr>\n",
       "    <tr>\n",
       "      <th>13635</th>\n",
       "      <td>13635</td>\n",
       "      <td>30836660</td>\n",
       "      <td>2398</td>\n",
       "      <td>2412</td>\n",
       "      <td>DiseaseOrPhenotypicFeature</td>\n",
       "      <td>renal fibrosis</td>\n",
       "      <td>D007674</td>\n",
       "    </tr>\n",
       "  </tbody>\n",
       "</table>\n",
       "<p>13636 rows × 7 columns</p>\n",
       "</div>"
      ],
      "text/plain": [
       "          id  abstract_id  offset_start  offset_finish  \\\n",
       "0          0      1353340            11             39   \n",
       "1          1      1353340           111            126   \n",
       "2          2      1353340           128            132   \n",
       "3          3      1353340           159            187   \n",
       "4          4      1353340           189            192   \n",
       "...      ...          ...           ...            ...   \n",
       "13631  13631     30836660          2237           2241   \n",
       "13632  13632     30836660          2242           2251   \n",
       "13633  13633     30836660          2256           2260   \n",
       "13634  13634     30836660          2344           2347   \n",
       "13635  13635     30836660          2398           2412   \n",
       "\n",
       "                             type                       mention  entity_ids  \n",
       "0      DiseaseOrPhenotypicFeature  metachromatic leukodystrophy     D007966  \n",
       "1               GeneOrGeneProduct               arylsulfatase A         410  \n",
       "2               GeneOrGeneProduct                          ARSA         410  \n",
       "3      DiseaseOrPhenotypicFeature  metachromatic leukodystrophy     D007966  \n",
       "4      DiseaseOrPhenotypicFeature                           MLD     D007966  \n",
       "...                           ...                           ...         ...  \n",
       "13631           GeneOrGeneProduct                          TLR4  21898,7099  \n",
       "13632           GeneOrGeneProduct                     NF-kappaB  18033,4790  \n",
       "13633           GeneOrGeneProduct                          MAPK  26413,5594  \n",
       "13634              ChemicalEntity                           Sal     C009172  \n",
       "13635  DiseaseOrPhenotypicFeature                renal fibrosis     D007674  \n",
       "\n",
       "[13636 rows x 7 columns]"
      ]
     },
     "execution_count": 3,
     "metadata": {},
     "output_type": "execute_result"
    }
   ],
   "source": [
    "entities_train = pd.read_csv('entities_train.csv', sep='\\t')\n",
    "entities_train"
   ]
  },
  {
   "cell_type": "code",
   "execution_count": 43,
   "id": "e4473b2b-1586-450b-b0d3-100f1bb5137a",
   "metadata": {},
   "outputs": [
    {
     "data": {
      "text/plain": [
       "GeneOrGeneProduct             4764\n",
       "DiseaseOrPhenotypicFeature    3784\n",
       "ChemicalEntity                2540\n",
       "OrganismTaxon                 1420\n",
       "SequenceVariant               1011\n",
       "CellLine                       117\n",
       "Name: type, dtype: int64"
      ]
     },
     "execution_count": 43,
     "metadata": {},
     "output_type": "execute_result"
    }
   ],
   "source": [
    "entities_train['type'].value_counts()"
   ]
  },
  {
   "cell_type": "code",
   "execution_count": 12,
   "id": "7971af89-47f6-4890-9852-4fb2f5d0f5b8",
   "metadata": {},
   "outputs": [
    {
     "data": {
      "text/plain": [
       "'Late-onset metachromatic leukodystrophy: molecular pathology in two siblings. We report on a new allele at the arylsulfatase A (ARSA) locus causing late-onset metachromatic leukodystrophy (MLD). In that allele arginine84, a residue that is highly conserved in the arylsulfatase gene family, is replaced by glutamine. In contrast to alleles that cause early-onset MLD, the arginine84 to glutamine substitution is associated with some residual ARSA activity. A comparison of genotypes, ARSA activities, and clinical data on 4 individuals carrying the allele of 81 patients with MLD examined, further validates the concept that different degrees of residual ARSA activity are the basis of phenotypical variation in MLD.. '"
      ]
     },
     "execution_count": 12,
     "metadata": {},
     "output_type": "execute_result"
    }
   ],
   "source": [
    "text = abstracts_train['title'].iloc[0] + ' ' + abstracts_train['abstract'].iloc[0]\n",
    "text"
   ]
  },
  {
   "cell_type": "code",
   "execution_count": 6,
   "id": "73dcc30e-396f-44cc-970b-5a2a2be3ed4e",
   "metadata": {},
   "outputs": [
    {
     "data": {
      "text/plain": [
       "'Late-onset metachromatic leukodystrophy: molecular pathology in two siblings. We report on a new allele at the arylsulfatase A (ARSA) locus causing late-onset metachromatic leukodystrophy (MLD). In that allele arginine84, a residue that is highly conserved in the arylsulfatase gene family, is replaced by glutamine. In contrast to alleles that cause early-onset MLD, the arginine84 to glutamine substitution is associated with some residual ARSA activity. A comparison of genotypes, ARSA activities, and clinical data on 4 individuals carrying the allele of 81 patients with MLD examined, further validates the concept that different degrees of residual ARSA activity are the basis of phenotypical variation in MLD.'"
      ]
     },
     "execution_count": 6,
     "metadata": {},
     "output_type": "execute_result"
    }
   ],
   "source": [
    "text[:-2]"
   ]
  },
  {
   "cell_type": "markdown",
   "id": "3f171a04-a07c-49d7-8ab1-7102e31432ba",
   "metadata": {},
   "source": [
    "# Convert into IOB"
   ]
  },
  {
   "cell_type": "code",
   "execution_count": 4,
   "id": "6a3e5f2d-ef9d-4bab-a5d0-f22a27b581c9",
   "metadata": {},
   "outputs": [],
   "source": [
    "train_narratives_data, dev_narratives_data = train_test_split(abstracts_train, test_size=0.2)"
   ]
  },
  {
   "cell_type": "code",
   "execution_count": 26,
   "id": "22f5de1d-77dc-4458-a361-ce078d46d292",
   "metadata": {},
   "outputs": [],
   "source": [
    "SYMBOLS = '{}#()[].,:;+-*/&|<>=~ \"\\''\n",
    "entire_data_idx = 0\n",
    "final_word_list = []\n",
    "final_IOB_list = []\n",
    "final_EID_list = []\n",
    "final_AID_list = []\n",
    "\n",
    "while entire_data_idx < len(train_narratives_data):\n",
    "# while entire_data_idx < len(dev_narratives_data):\n",
    "    sub_narratives_data = train_narratives_data['title'].iloc[entire_data_idx] + ' ' + train_narratives_data['abstract'].iloc[entire_data_idx]\n",
    "    # sub_narratives_data = dev_narratives_data['title'].iloc[entire_data_idx] + ' ' + dev_narratives_data['abstract'].iloc[entire_data_idx]\n",
    "    if sub_narratives_data[-3:] == '.. ':\n",
    "        sub_narratives_data = sub_narratives_data[:-2]\n",
    "\n",
    "    sub_clinical_data = entities_train[entities_train['abstract_id'] == train_narratives_data['abstract_id'].iloc[entire_data_idx]]\n",
    "    # sub_clinical_data = entities_train[entities_train['abstract_id'] == dev_narratives_data['abstract_id'].iloc[entire_data_idx]]\n",
    "\n",
    "    new_START_POS = []\n",
    "    new_END_POS = []\n",
    "\n",
    "    # Generate word list\n",
    "    word = ''\n",
    "    tmp_word_list = []\n",
    "    dotCount = 0\n",
    "    for i in sub_narratives_data:\n",
    "        if i in SYMBOLS:\n",
    "            if i == ' ':\n",
    "                if dotCount == 1:\n",
    "                    tmp_word_list.append('')\n",
    "                    dotCount = 0\n",
    "                if word != '':\n",
    "                    tmp_word_list.append(word)\n",
    "            else:\n",
    "                if dotCount == 1:\n",
    "                    dotCount = 0\n",
    "                if word != '':\n",
    "                    tmp_word_list.append(word)\n",
    "                tmp_word_list.append(i)\n",
    "            if i == '.':\n",
    "                dotCount = 1\n",
    "            word = ''\n",
    "        else:\n",
    "            if dotCount == 1:\n",
    "                dotCount = 0\n",
    "            word += i\n",
    "\n",
    "    if word != '':\n",
    "        tmp_word_list.append(word)\n",
    "\n",
    "    # Generate new START_POS and new END_POS lists\n",
    "    for idx in range(len(sub_clinical_data)):\n",
    "        word = ''\n",
    "        word_count = 0\n",
    "        narratives_before_feature_text = sub_narratives_data[0:sub_clinical_data['offset_start'].iloc[idx]]\n",
    "        dotCount = 0\n",
    "        for i in narratives_before_feature_text:\n",
    "            if i in SYMBOLS:\n",
    "                if i == ' ':\n",
    "                    if dotCount == 1:\n",
    "                        word_count += 1\n",
    "                        dotCount = 0\n",
    "                    if word != '':\n",
    "                        word_count += 1\n",
    "                else:\n",
    "                    if dotCount == 1:\n",
    "                        dotCount = 0\n",
    "                    if word != '':\n",
    "                        word_count += 1\n",
    "                    word_count += 1\n",
    "                if i == '.':\n",
    "                    dotCount = 1\n",
    "                word = ''\n",
    "            else:\n",
    "                if dotCount == 1:\n",
    "                    dotCount = 0\n",
    "                word += i\n",
    "\n",
    "        if word != '':\n",
    "            word_count += 1\n",
    "\n",
    "        new_START_POS.append(word_count)\n",
    "\n",
    "        word = ''\n",
    "        word_count = 0\n",
    "        narratives_before_feature_text = sub_narratives_data[0:sub_clinical_data['offset_finish'].iloc[idx]]\n",
    "        dotCount = 0\n",
    "        for i in narratives_before_feature_text:\n",
    "            if i in SYMBOLS:\n",
    "                if i == ' ':\n",
    "                    if dotCount == 1:\n",
    "                        word_count += 1\n",
    "                        dotCount = 0\n",
    "                    if word != '':\n",
    "                        word_count += 1\n",
    "                else:\n",
    "                    if dotCount == 1:\n",
    "                        dotCount = 0\n",
    "                    if word != '':\n",
    "                        word_count += 1\n",
    "                    word_count += 1\n",
    "                if i == '.':\n",
    "                    dotCount = 1\n",
    "                word = ''\n",
    "            else:\n",
    "                if dotCount == 1:\n",
    "                    dotCount = 0\n",
    "                word += i\n",
    "\n",
    "        if word != '':\n",
    "            word_count += 1\n",
    "\n",
    "        new_END_POS.append(word_count)\n",
    "\n",
    "    # Generate IOB list\n",
    "    tmp_IOB_list = ['O'] * len(tmp_word_list)\n",
    "    tmp_EID_list = ['O'] * len(tmp_word_list)\n",
    "    tmp_AID_list = [sub_clinical_data['abstract_id'].iloc[0]] * len(tmp_word_list)\n",
    "    for idx in range(len(new_START_POS)):\n",
    "        tmp_IOB_list[new_START_POS[idx] : new_END_POS[idx]] = ['B-' + sub_clinical_data['type'].iloc[idx]] * (new_END_POS[idx] - new_START_POS[idx])\n",
    "        tmp_EID_list[new_START_POS[idx] : new_END_POS[idx]] = [sub_clinical_data['entity_ids'].iloc[idx]] * (new_END_POS[idx] - new_START_POS[idx])\n",
    "\n",
    "        if new_END_POS[idx] - new_START_POS[idx] > 1:\n",
    "            tmp_IOB_list[new_START_POS[idx] + 1 : new_END_POS[idx]] = ['I-' + sub_clinical_data['type'].iloc[idx]] * (new_END_POS[idx] - new_START_POS[idx] - 1)\n",
    "            tmp_EID_list[new_START_POS[idx] + 1 : new_END_POS[idx]] = [sub_clinical_data['entity_ids'].iloc[idx]] * (new_END_POS[idx] - new_START_POS[idx] - 1)\n",
    "\n",
    "        for idx2 in range(new_END_POS[idx] - new_START_POS[idx]):\n",
    "            if tmp_word_list[new_START_POS[idx] + idx2] in SYMBOLS:\n",
    "                tmp_IOB_list[new_START_POS[idx] + idx2] = 'O'\n",
    "                tmp_EID_list[new_START_POS[idx] + idx2] = 'O'\n",
    "\n",
    "    for idx in range(len(tmp_word_list)):\n",
    "        if tmp_word_list[idx] == '':\n",
    "            if tmp_word_list[idx - 1] == '.':\n",
    "                tmp_IOB_list[idx] = ''\n",
    "                tmp_EID_list[idx] = ''\n",
    "                tmp_AID_list[idx] = ''\n",
    "\n",
    "    # Merge into a final word list and a final IOB list\n",
    "    final_word_list += tmp_word_list\n",
    "    final_IOB_list += tmp_IOB_list\n",
    "    final_EID_list += tmp_EID_list\n",
    "    final_AID_list += tmp_AID_list\n",
    "    entire_data_idx += 1"
   ]
  },
  {
   "cell_type": "code",
   "execution_count": 27,
   "id": "09147c44-b6a3-45d4-9cb5-36f5f9318800",
   "metadata": {
    "scrolled": true,
    "tags": []
   },
   "outputs": [
    {
     "data": {
      "text/plain": [
       "104104"
      ]
     },
     "execution_count": 27,
     "metadata": {},
     "output_type": "execute_result"
    }
   ],
   "source": [
    "output = pd.DataFrame({'word':final_word_list, 'IOB':final_IOB_list, 'EID':final_EID_list, 'AID':final_AID_list})\n",
    "# with pd.option_context('display.max_rows', None, 'display.max_columns', None):\n",
    "#     print(output)\n",
    "len(output)"
   ]
  },
  {
   "cell_type": "code",
   "execution_count": 28,
   "id": "d4ca4fd7-132e-45ca-a660-0546e5d9528b",
   "metadata": {
    "scrolled": true,
    "tags": []
   },
   "outputs": [
    {
     "name": "stderr",
     "output_type": "stream",
     "text": [
      "100%|██████████| 104104/104104 [04:54<00:00, 352.93it/s]\n",
      "100%|██████████| 104104/104104 [05:05<00:00, 340.39it/s]\n"
     ]
    }
   ],
   "source": [
    "with open('train_LitCoin_IOB.tsv', 'w') as f:\n",
    "# with open('dev_LitCoin_IOB.tsv', 'w') as f:\n",
    "    for idx in tqdm(range(len(output))):\n",
    "        if output['word'].iloc[idx] == '':\n",
    "            f.write('\\n')\n",
    "        else:\n",
    "            output[['word', 'IOB']].iloc[[idx]].to_csv(f, index=False, header=False, sep='\\t', mode='a')\n",
    "\n",
    "with open('train_LitCoin_EID.tsv', 'w') as f:\n",
    "# with open('dev_LitCoin_EID.tsv', 'w') as f:\n",
    "    for idx in tqdm(range(len(output))):\n",
    "        if output['word'].iloc[idx] == '':\n",
    "            f.write('\\n')\n",
    "        else:\n",
    "            output[['word', 'EID']].iloc[[idx]].to_csv(f, index=False, header=False, sep='\\t', mode='a')\n",
    "\n",
    "with open('train_LitCoin_AID.tsv', 'w') as f:\n",
    "# with open('dev_LitCoin_AID.tsv', 'w') as f:\n",
    "    for idx in tqdm(range(len(output))):\n",
    "        if output['word'].iloc[idx] == '':\n",
    "            f.write('\\n')\n",
    "        else:\n",
    "            output[['word', 'AID']].iloc[[idx]].to_csv(f, index=False, header=False, sep='\\t', mode='a')"
   ]
  },
  {
   "cell_type": "markdown",
   "id": "4204d15c-677f-4b04-8381-25bfd6ba4f2e",
   "metadata": {},
   "source": [
    "# NER"
   ]
  },
  {
   "cell_type": "code",
   "execution_count": 2,
   "id": "5cc2285c-b3d9-4dbc-8395-e4953b282c31",
   "metadata": {},
   "outputs": [
    {
     "data": {
      "text/plain": [
       "'import_from_iob_format.py'"
      ]
     },
     "execution_count": 2,
     "metadata": {},
     "output_type": "execute_result"
    }
   ],
   "source": [
    "BRANCH = 'r1.4.0'\n",
    "wget.download(f'https://raw.githubusercontent.com/NVIDIA/NeMo/{BRANCH}/examples/nlp/token_classification/data/import_from_iob_format.py')"
   ]
  },
  {
   "cell_type": "code",
   "execution_count": 3,
   "id": "74ff1aca-84c6-410a-b52c-c39498f06117",
   "metadata": {},
   "outputs": [
    {
     "name": "stdout",
     "output_type": "stream",
     "text": [
      "[NeMo I 2022-02-18 22:49:32 import_from_iob_format:119] Processing train_LitCoin_IOB.tsv\n",
      "[NeMo I 2022-02-18 22:49:32 import_from_iob_format:124] Processing of the train_LitCoin_IOB.tsv is complete\n",
      "[NeMo I 2022-02-18 22:49:36 import_from_iob_format:119] Processing dev_LitCoin_IOB.tsv\n",
      "[NeMo I 2022-02-18 22:49:36 import_from_iob_format:124] Processing of the dev_LitCoin_IOB.tsv is complete\n"
     ]
    }
   ],
   "source": [
    "! python import_from_iob_format.py --data_file=train_LitCoin_IOB.tsv\n",
    "! python import_from_iob_format.py --data_file=dev_LitCoin_IOB.tsv"
   ]
  },
  {
   "cell_type": "code",
   "execution_count": 4,
   "id": "3f1191fe-498b-4935-8627-88e3d6195987",
   "metadata": {},
   "outputs": [],
   "source": [
    "MODEL_CONFIG = \"token_classification_config.yaml\""
   ]
  },
  {
   "cell_type": "code",
   "execution_count": 5,
   "id": "12a6bb08-fbea-49d9-aad6-1022e7ea3e0a",
   "metadata": {},
   "outputs": [
    {
     "name": "stdout",
     "output_type": "stream",
     "text": [
      "Downloading config file...\n"
     ]
    }
   ],
   "source": [
    "if not os.path.exists(MODEL_CONFIG):\n",
    "    print('Downloading config file...')\n",
    "    wget.download(f'https://raw.githubusercontent.com/NVIDIA/NeMo/{BRANCH}/examples/nlp/token_classification/conf/' + MODEL_CONFIG, './')\n",
    "else:\n",
    "    print ('config file is already exists')"
   ]
  },
  {
   "cell_type": "code",
   "execution_count": 6,
   "id": "9557f769-5c9e-4c51-9af1-88eab0df5a90",
   "metadata": {},
   "outputs": [],
   "source": [
    "config = OmegaConf.load(f'{MODEL_CONFIG}')\n",
    "config.model.train_ds.batch_size=64\n",
    "config.model.train_ds.text_file='text_train_LitCoin_IOB.txt'\n",
    "config.model.train_ds.labels_file='labels_train_LitCoin_IOB.txt'\n",
    "config.model.validation_ds.batch_size=64\n",
    "config.model.validation_ds.text_file='text_dev_LitCoin_IOB.txt'\n",
    "config.model.validation_ds.labels_file='labels_dev_LitCoin_IOB.txt'\n",
    "config.model.test_ds.text_file='text_dev_LitCoin_IOB.txt'\n",
    "config.model.test_ds.labels_file='labels_dev_LitCoin_IOB.txt'\n",
    "config.model.dataset.data_dir = './'\n",
    "config.trainer.max_epochs = 7"
   ]
  },
  {
   "cell_type": "code",
   "execution_count": 7,
   "id": "cbbdd5d8-3180-4a8d-9af6-1384e84a9dfe",
   "metadata": {
    "scrolled": true,
    "tags": []
   },
   "outputs": [
    {
     "name": "stdout",
     "output_type": "stream",
     "text": [
      "pretrained_model: null\n",
      "trainer:\n",
      "  gpus: 1\n",
      "  num_nodes: 1\n",
      "  max_epochs: 7\n",
      "  max_steps: null\n",
      "  accumulate_grad_batches: 1\n",
      "  gradient_clip_val: 0.0\n",
      "  amp_level: O0\n",
      "  precision: 16\n",
      "  accelerator: ddp\n",
      "  checkpoint_callback: false\n",
      "  logger: false\n",
      "  log_every_n_steps: 1\n",
      "  val_check_interval: 1.0\n",
      "  resume_from_checkpoint: null\n",
      "exp_manager:\n",
      "  exp_dir: null\n",
      "  name: token_classification_model\n",
      "  create_tensorboard_logger: true\n",
      "  create_checkpoint_callback: true\n",
      "model:\n",
      "  label_ids: null\n",
      "  class_labels:\n",
      "    class_labels_file: label_ids.csv\n",
      "  dataset:\n",
      "    data_dir: ./\n",
      "    class_balancing: null\n",
      "    max_seq_length: 128\n",
      "    pad_label: O\n",
      "    ignore_extra_tokens: false\n",
      "    ignore_start_end: false\n",
      "    use_cache: true\n",
      "    num_workers: 2\n",
      "    pin_memory: false\n",
      "    drop_last: false\n",
      "  train_ds:\n",
      "    text_file: text_train_LitCoin_IOB.txt\n",
      "    labels_file: labels_train_LitCoin_IOB.txt\n",
      "    shuffle: true\n",
      "    num_samples: -1\n",
      "    batch_size: 64\n",
      "  validation_ds:\n",
      "    text_file: text_dev_LitCoin_IOB.txt\n",
      "    labels_file: labels_dev_LitCoin_IOB.txt\n",
      "    shuffle: false\n",
      "    num_samples: -1\n",
      "    batch_size: 64\n",
      "  test_ds:\n",
      "    text_file: text_dev_LitCoin_IOB.txt\n",
      "    labels_file: labels_dev_LitCoin_IOB.txt\n",
      "    shuffle: false\n",
      "    num_samples: -1\n",
      "    batch_size: 64\n",
      "  tokenizer:\n",
      "    tokenizer_name: ${model.language_model.pretrained_model_name}\n",
      "    vocab_file: null\n",
      "    tokenizer_model: null\n",
      "    special_tokens: null\n",
      "  language_model:\n",
      "    pretrained_model_name: bert-base-uncased\n",
      "    lm_checkpoint: null\n",
      "    config_file: null\n",
      "    config: null\n",
      "  head:\n",
      "    num_fc_layers: 2\n",
      "    fc_dropout: 0.5\n",
      "    activation: relu\n",
      "    use_transformer_init: true\n",
      "  optim:\n",
      "    name: adam\n",
      "    lr: 5.0e-05\n",
      "    weight_decay: 0.0\n",
      "    sched:\n",
      "      name: WarmupAnnealing\n",
      "      warmup_steps: null\n",
      "      warmup_ratio: 0.1\n",
      "      last_epoch: -1\n",
      "      monitor: val_loss\n",
      "      reduce_on_plateau: false\n",
      "hydra:\n",
      "  run:\n",
      "    dir: .\n",
      "  job_logging:\n",
      "    root:\n",
      "      handlers: null\n",
      "\n"
     ]
    }
   ],
   "source": [
    "print(OmegaConf.to_yaml(config))"
   ]
  },
  {
   "cell_type": "code",
   "execution_count": 8,
   "id": "f9ccc64f-82a1-4710-a448-7891961c4ce3",
   "metadata": {},
   "outputs": [
    {
     "name": "stderr",
     "output_type": "stream",
     "text": [
      "Using native 16bit precision.\n",
      "GPU available: True, used: True\n",
      "TPU available: False, using: 0 TPU cores\n",
      "IPU available: False, using: 0 IPUs\n"
     ]
    }
   ],
   "source": [
    "# lets modify some trainer configs\n",
    "# checks if we have GPU available and uses it\n",
    "cuda = 1 if torch.cuda.is_available() else 0\n",
    "config.trainer.gpus = cuda\n",
    "\n",
    "# for PyTorch Native AMP set precision=16\n",
    "config.trainer.precision = 16 if torch.cuda.is_available() else 32\n",
    "\n",
    "# remove distributed training flags\n",
    "config.trainer.accelerator = None\n",
    "\n",
    "trainer = pl.Trainer(**config.trainer)"
   ]
  },
  {
   "cell_type": "code",
   "execution_count": 9,
   "id": "810fdb63-6296-47c6-88be-027f0127dbcb",
   "metadata": {},
   "outputs": [
    {
     "name": "stdout",
     "output_type": "stream",
     "text": [
      "[NeMo I 2022-02-18 22:49:37 exp_manager:220] Experiments will be logged at /workspace/nemo/nemo_experiments/token_classification_model/2022-02-18_22-49-37\n",
      "[NeMo I 2022-02-18 22:49:37 exp_manager:569] TensorboardLogger has been set up\n"
     ]
    },
    {
     "name": "stderr",
     "output_type": "stream",
     "text": [
      "[NeMo W 2022-02-18 22:49:37 nemo_logging:349] /opt/conda/lib/python3.8/site-packages/pytorch_lightning/callbacks/model_checkpoint.py:240: LightningDeprecationWarning: `ModelCheckpoint(every_n_val_epochs)` is deprecated in v1.4 and will be removed in v1.6. Please use `every_n_epochs` instead.\n",
      "      rank_zero_deprecation(\n",
      "    \n"
     ]
    },
    {
     "data": {
      "text/plain": [
       "'/workspace/nemo/nemo_experiments/token_classification_model/2022-02-18_22-49-37'"
      ]
     },
     "execution_count": 9,
     "metadata": {},
     "output_type": "execute_result"
    }
   ],
   "source": [
    "exp_dir = exp_manager(trainer, config.get(\"exp_manager\", None))\n",
    "\n",
    "# the exp_dir provides a path to the current experiment for easy access\n",
    "exp_dir = str(exp_dir)\n",
    "exp_dir"
   ]
  },
  {
   "cell_type": "code",
   "execution_count": 10,
   "id": "f57f9315-0311-47c1-afce-a93b7b9f5738",
   "metadata": {},
   "outputs": [
    {
     "name": "stdout",
     "output_type": "stream",
     "text": [
      "['megatron-bert-345m-uncased', 'megatron-bert-345m-cased', 'megatron-bert-uncased', 'megatron-bert-cased', 'biomegatron-bert-345m-uncased', 'biomegatron-bert-345m-cased', 'bert-base-uncased', 'bert-large-uncased', 'bert-base-cased', 'bert-large-cased', 'bert-base-multilingual-uncased', 'bert-base-multilingual-cased', 'bert-base-chinese', 'bert-base-german-cased', 'bert-large-uncased-whole-word-masking', 'bert-large-cased-whole-word-masking', 'bert-large-uncased-whole-word-masking-finetuned-squad', 'bert-large-cased-whole-word-masking-finetuned-squad', 'bert-base-cased-finetuned-mrpc', 'bert-base-german-dbmdz-cased', 'bert-base-german-dbmdz-uncased', 'cl-tohoku/bert-base-japanese', 'cl-tohoku/bert-base-japanese-whole-word-masking', 'cl-tohoku/bert-base-japanese-char', 'cl-tohoku/bert-base-japanese-char-whole-word-masking', 'TurkuNLP/bert-base-finnish-cased-v1', 'TurkuNLP/bert-base-finnish-uncased-v1', 'wietsedv/bert-base-dutch-cased', 'distilbert-base-uncased', 'distilbert-base-uncased-distilled-squad', 'distilbert-base-cased', 'distilbert-base-cased-distilled-squad', 'distilbert-base-german-cased', 'distilbert-base-multilingual-cased', 'distilbert-base-uncased-finetuned-sst-2-english', 'roberta-base', 'roberta-large', 'roberta-large-mnli', 'distilroberta-base', 'roberta-base-openai-detector', 'roberta-large-openai-detector', 'albert-base-v1', 'albert-large-v1', 'albert-xlarge-v1', 'albert-xxlarge-v1', 'albert-base-v2', 'albert-large-v2', 'albert-xlarge-v2', 'albert-xxlarge-v2']\n"
     ]
    }
   ],
   "source": [
    "# complete list of supported BERT-like models\n",
    "print(nemo_nlp.modules.get_pretrained_lm_models_list())\n",
    "\n",
    "PRETRAINED_BERT_MODEL = \"biomegatron-bert-345m-cased\""
   ]
  },
  {
   "cell_type": "code",
   "execution_count": 11,
   "id": "888a8bcd-75c4-44cb-bdea-a78ddabd5dcf",
   "metadata": {},
   "outputs": [],
   "source": [
    "config.model.language_model.pretrained_model_name = PRETRAINED_BERT_MODEL"
   ]
  },
  {
   "cell_type": "code",
   "execution_count": 12,
   "id": "1bef27ce-0ce5-4b8e-ab1a-c02fe263bba8",
   "metadata": {
    "scrolled": true,
    "tags": []
   },
   "outputs": [
    {
     "name": "stdout",
     "output_type": "stream",
     "text": [
      "[NeMo I 2022-02-18 22:49:39 megatron_utils:274] Downloading from https://api.ngc.nvidia.com/v2/models/nvidia/biomegatron345mcased/versions/0/files/vocab.txt\n",
      "[NeMo I 2022-02-18 22:49:40 tokenizer_utils:100] Getting HuggingFace AutoTokenizer with pretrained_model_name: bert-large-cased, vocab_file: /root/.cache/torch/megatron/biomegatron-bert-345m-cased_vocab, special_tokens_dict: {}, and use_fast: False\n"
     ]
    },
    {
     "name": "stderr",
     "output_type": "stream",
     "text": [
      "I0218 22:49:40.593445 139808715183936 filelock.py:274] Lock 139805817868736 acquired on /root/.cache/huggingface/transformers/45d2aa048795efc7b12791662c188d5e3aa2f9ac54b2cf3f6e4d7bc6544e3d13.ec5c189f89475aac7d8cbd243960a0655cfadc3d0474da8ff2ed0bf1699c2a5f.lock\n"
     ]
    },
    {
     "data": {
      "application/vnd.jupyter.widget-view+json": {
       "model_id": "5560baf554834cc9bd72957714e7f37f",
       "version_major": 2,
       "version_minor": 0
      },
      "text/plain": [
       "Downloading:   0%|          | 0.00/29.0 [00:00<?, ?B/s]"
      ]
     },
     "metadata": {},
     "output_type": "display_data"
    },
    {
     "name": "stderr",
     "output_type": "stream",
     "text": [
      "I0218 22:49:40.901526 139808715183936 filelock.py:318] Lock 139805817868736 released on /root/.cache/huggingface/transformers/45d2aa048795efc7b12791662c188d5e3aa2f9ac54b2cf3f6e4d7bc6544e3d13.ec5c189f89475aac7d8cbd243960a0655cfadc3d0474da8ff2ed0bf1699c2a5f.lock\n",
      "I0218 22:49:41.176199 139808715183936 filelock.py:274] Lock 139805817853504 acquired on /root/.cache/huggingface/transformers/11ad22b0deaa199d15b331609ca5f60872a1a91473e9b40c115192dadb6d9a30.bdf0177a774dcff07681b2527b926c099e6563687c75a79f7469c7a7da7898c7.lock\n"
     ]
    },
    {
     "data": {
      "application/vnd.jupyter.widget-view+json": {
       "model_id": "e081922c09c04281b7afbda227fc6903",
       "version_major": 2,
       "version_minor": 0
      },
      "text/plain": [
       "Downloading:   0%|          | 0.00/762 [00:00<?, ?B/s]"
      ]
     },
     "metadata": {},
     "output_type": "display_data"
    },
    {
     "name": "stderr",
     "output_type": "stream",
     "text": [
      "I0218 22:49:41.475332 139808715183936 filelock.py:318] Lock 139805817853504 released on /root/.cache/huggingface/transformers/11ad22b0deaa199d15b331609ca5f60872a1a91473e9b40c115192dadb6d9a30.bdf0177a774dcff07681b2527b926c099e6563687c75a79f7469c7a7da7898c7.lock\n",
      "I0218 22:49:42.028901 139808715183936 filelock.py:274] Lock 139805817854320 acquired on /root/.cache/huggingface/transformers/c9961ea5b7e8ad58701728c45f4d225f70b19aa59745121e5a96c8a44efca4c8.437aa611e89f6fc6675a049d2b5545390adbc617e7d655286421c191d2be2791.lock\n"
     ]
    },
    {
     "data": {
      "application/vnd.jupyter.widget-view+json": {
       "model_id": "8341383ef9ed4a97bd80ebc4791fc2ae",
       "version_major": 2,
       "version_minor": 0
      },
      "text/plain": [
       "Downloading:   0%|          | 0.00/208k [00:00<?, ?B/s]"
      ]
     },
     "metadata": {},
     "output_type": "display_data"
    },
    {
     "name": "stderr",
     "output_type": "stream",
     "text": [
      "I0218 22:49:42.554241 139808715183936 filelock.py:318] Lock 139805817854320 released on /root/.cache/huggingface/transformers/c9961ea5b7e8ad58701728c45f4d225f70b19aa59745121e5a96c8a44efca4c8.437aa611e89f6fc6675a049d2b5545390adbc617e7d655286421c191d2be2791.lock\n",
      "I0218 22:49:43.650928 139808715183936 filelock.py:274] Lock 139805817600176 acquired on /root/.cache/huggingface/transformers/75be22d7750034989358861e325977feda47740e1c3f8a4dc1cb73570aad843e.2b9a196704f2f183fe3f4b48d6e662dba8203fdcb3346bfa896831378edf6f97.lock\n"
     ]
    },
    {
     "data": {
      "application/vnd.jupyter.widget-view+json": {
       "model_id": "4abe501547cb41a89b061af3f05d90a8",
       "version_major": 2,
       "version_minor": 0
      },
      "text/plain": [
       "Downloading:   0%|          | 0.00/426k [00:00<?, ?B/s]"
      ]
     },
     "metadata": {},
     "output_type": "display_data"
    },
    {
     "name": "stderr",
     "output_type": "stream",
     "text": [
      "I0218 22:49:44.241148 139808715183936 filelock.py:318] Lock 139805817600176 released on /root/.cache/huggingface/transformers/75be22d7750034989358861e325977feda47740e1c3f8a4dc1cb73570aad843e.2b9a196704f2f183fe3f4b48d6e662dba8203fdcb3346bfa896831378edf6f97.lock\n",
      "Using eos_token, but it is not set yet.\n",
      "Using bos_token, but it is not set yet.\n"
     ]
    },
    {
     "name": "stdout",
     "output_type": "stream",
     "text": [
      "[NeMo I 2022-02-18 22:49:44 token_classification_utils:54] Processing ./labels_train_LitCoin_IOB.txt\n",
      "[NeMo I 2022-02-18 22:49:44 token_classification_utils:90] Labels mapping {'O': 0, 'B-CellLine': 1, 'B-ChemicalEntity': 2, 'B-DiseaseOrPhenotypicFeature': 3, 'B-GeneOrGeneProduct': 4, 'B-OrganismTaxon': 5, 'B-SequenceVariant': 6, 'I-CellLine': 7, 'I-ChemicalEntity': 8, 'I-DiseaseOrPhenotypicFeature': 9, 'I-GeneOrGeneProduct': 10, 'I-OrganismTaxon': 11, 'I-SequenceVariant': 12} saved to : ./label_ids.csv\n",
      "[NeMo I 2022-02-18 22:49:45 token_classification_utils:99] Three most popular labels in ./labels_train_LitCoin_IOB.txt:\n",
      "[NeMo I 2022-02-18 22:49:45 data_preprocessing:194] label: 0, 84007 out of 100857 (83.29%).\n",
      "[NeMo I 2022-02-18 22:49:45 data_preprocessing:194] label: 4, 3903 out of 100857 (3.87%).\n",
      "[NeMo I 2022-02-18 22:49:45 data_preprocessing:194] label: 3, 3052 out of 100857 (3.03%).\n",
      "[NeMo I 2022-02-18 22:49:45 token_classification_utils:101] Total labels: 100857. Label frequencies - {0: 84007, 4: 3903, 3: 3052, 9: 2121, 2: 2066, 10: 1983, 5: 1193, 12: 1021, 6: 720, 8: 600, 1: 87, 11: 55, 7: 49}\n",
      "[NeMo I 2022-02-18 22:49:45 token_classification_utils:110] Class Weights: {0: 0.09235219409371563, 4: 1.987760893986874, 3: 2.542015324125416, 9: 3.6578174300946578, 2: 3.75519398317075, 10: 3.9123705341557082, 5: 6.503127216454962, 12: 7.5986589316657875, 6: 10.775320512820512, 8: 12.930384615384616, 1: 89.17506631299734, 11: 141.05874125874126, 7: 158.33124018838305}\n",
      "[NeMo I 2022-02-18 22:49:45 token_classification_utils:114] Class weights saved to ./labels_train_LitCoin_IOB_weights.p\n",
      "[NeMo I 2022-02-18 22:49:50 token_classification_dataset:121] Setting Max Seq length to: 128\n",
      "[NeMo I 2022-02-18 22:49:50 data_preprocessing:358] Some stats of the lengths of the sequences:\n",
      "[NeMo I 2022-02-18 22:49:50 data_preprocessing:360] Min: 4 |                  Max: 320 |                  Mean: 46.21274630541872 |                  Median: 41.0\n",
      "[NeMo I 2022-02-18 22:49:50 data_preprocessing:366] 75 percentile: 58.00\n",
      "[NeMo I 2022-02-18 22:49:50 data_preprocessing:367] 99 percentile: 122.00\n"
     ]
    },
    {
     "name": "stderr",
     "output_type": "stream",
     "text": [
      "[NeMo W 2022-02-18 22:49:51 token_classification_dataset:150] 25 are longer than 128\n"
     ]
    },
    {
     "name": "stdout",
     "output_type": "stream",
     "text": [
      "[NeMo I 2022-02-18 22:49:51 token_classification_dataset:153] *** Example ***\n",
      "[NeMo I 2022-02-18 22:49:51 token_classification_dataset:154] i: 0\n",
      "[NeMo I 2022-02-18 22:49:51 token_classification_dataset:155] subtokens: [CLS] Micro ##in ##jection of r ##ita ##nse ##rin into the CA ##1 region of hip ##po ##cam ##pus improve ##s s ##co ##pol ##amine - induced am ##nesia in adult male rats . [SEP]\n",
      "[NeMo I 2022-02-18 22:49:51 token_classification_dataset:156] loss_mask: 1 1 1 1 1 1 1 1 1 1 1 1 1 1 1 1 1 1 1 1 1 1 1 1 1 1 1 1 1 1 1 1 1 1 1 0 0 0 0 0 0 0 0 0 0 0 0 0 0 0 0 0 0 0 0 0 0 0 0 0 0 0 0 0 0 0 0 0 0 0 0 0 0 0 0 0 0 0 0 0 0 0 0 0 0 0 0 0 0 0 0 0 0 0 0 0 0 0 0 0 0 0 0 0 0 0 0 0 0 0 0 0 0 0 0 0 0 0 0 0 0 0 0 0 0 0 0 0\n",
      "[NeMo I 2022-02-18 22:49:51 token_classification_dataset:157] input_mask: 1 1 1 1 1 1 1 1 1 1 1 1 1 1 1 1 1 1 1 1 1 1 1 1 1 1 1 1 1 1 1 1 1 1 1 0 0 0 0 0 0 0 0 0 0 0 0 0 0 0 0 0 0 0 0 0 0 0 0 0 0 0 0 0 0 0 0 0 0 0 0 0 0 0 0 0 0 0 0 0 0 0 0 0 0 0 0 0 0 0 0 0 0 0 0 0 0 0 0 0 0 0 0 0 0 0 0 0 0 0 0 0 0 0 0 0 0 0 0 0 0 0 0 0 0 0 0 0\n",
      "[NeMo I 2022-02-18 22:49:51 token_classification_dataset:158] subtokens_mask: 0 1 0 0 1 1 0 0 0 1 1 1 0 1 1 1 0 0 0 1 0 1 0 0 0 1 1 1 0 1 1 1 1 1 0 0 0 0 0 0 0 0 0 0 0 0 0 0 0 0 0 0 0 0 0 0 0 0 0 0 0 0 0 0 0 0 0 0 0 0 0 0 0 0 0 0 0 0 0 0 0 0 0 0 0 0 0 0 0 0 0 0 0 0 0 0 0 0 0 0 0 0 0 0 0 0 0 0 0 0 0 0 0 0 0 0 0 0 0 0 0 0 0 0 0 0 0 0\n",
      "[NeMo I 2022-02-18 22:49:51 token_classification_dataset:160] labels: 0 0 0 0 0 2 2 2 2 0 0 0 0 0 0 0 0 0 0 0 0 2 2 2 2 0 0 3 3 0 0 0 5 0 0 0 0 0 0 0 0 0 0 0 0 0 0 0 0 0 0 0 0 0 0 0 0 0 0 0 0 0 0 0 0 0 0 0 0 0 0 0 0 0 0 0 0 0 0 0 0 0 0 0 0 0 0 0 0 0 0 0 0 0 0 0 0 0 0 0 0 0 0 0 0 0 0 0 0 0 0 0 0 0 0 0 0 0 0 0 0 0 0 0 0 0 0 0\n",
      "[NeMo I 2022-02-18 22:49:51 token_classification_dataset:269] features saved to ./cached_text_train_LitCoin_IOB.txt_BertTokenizer_128_28996_-1\n",
      "[NeMo I 2022-02-18 22:49:51 token_classification_utils:54] Processing ./labels_dev_LitCoin_IOB.txt\n",
      "[NeMo I 2022-02-18 22:49:51 token_classification_utils:74] Using provided labels mapping {'O': 0, 'B-CellLine': 1, 'B-ChemicalEntity': 2, 'B-DiseaseOrPhenotypicFeature': 3, 'B-GeneOrGeneProduct': 4, 'B-OrganismTaxon': 5, 'B-SequenceVariant': 6, 'I-CellLine': 7, 'I-ChemicalEntity': 8, 'I-DiseaseOrPhenotypicFeature': 9, 'I-GeneOrGeneProduct': 10, 'I-OrganismTaxon': 11, 'I-SequenceVariant': 12}\n",
      "[NeMo I 2022-02-18 22:49:51 token_classification_utils:99] Three most popular labels in ./labels_dev_LitCoin_IOB.txt:\n",
      "[NeMo I 2022-02-18 22:49:51 data_preprocessing:194] label: 0, 20805 out of 24591 (84.60%).\n",
      "[NeMo I 2022-02-18 22:49:51 data_preprocessing:194] label: 4, 859 out of 24591 (3.49%).\n",
      "[NeMo I 2022-02-18 22:49:51 data_preprocessing:194] label: 3, 731 out of 24591 (2.97%).\n",
      "[NeMo I 2022-02-18 22:49:51 token_classification_utils:101] Total labels: 24591. Label frequencies - {0: 20805, 4: 859, 3: 731, 9: 532, 2: 467, 10: 368, 12: 262, 5: 227, 6: 191, 8: 95, 1: 30, 11: 12, 7: 12}\n",
      "[NeMo I 2022-02-18 22:49:52 token_classification_dataset:121] Setting Max Seq length to: 128\n",
      "[NeMo I 2022-02-18 22:49:52 data_preprocessing:358] Some stats of the lengths of the sequences:\n",
      "[NeMo I 2022-02-18 22:49:52 data_preprocessing:360] Min: 4 |                  Max: 240 |                  Mean: 44.443361753958584 |                  Median: 40.0\n",
      "[NeMo I 2022-02-18 22:49:52 data_preprocessing:366] 75 percentile: 54.00\n",
      "[NeMo I 2022-02-18 22:49:52 data_preprocessing:367] 99 percentile: 115.80\n"
     ]
    },
    {
     "name": "stderr",
     "output_type": "stream",
     "text": [
      "[NeMo W 2022-02-18 22:49:53 token_classification_dataset:150] 3 are longer than 128\n"
     ]
    },
    {
     "name": "stdout",
     "output_type": "stream",
     "text": [
      "[NeMo I 2022-02-18 22:49:53 token_classification_dataset:153] *** Example ***\n",
      "[NeMo I 2022-02-18 22:49:53 token_classification_dataset:154] i: 0\n",
      "[NeMo I 2022-02-18 22:49:53 token_classification_dataset:155] subtokens: [CLS] Alt ##ered replication timing of the H ##IR ##A / Tu ##ple ##1 lo ##cus in the Di ##G ##eor ##ge and V ##elo ##card ##io ##fa ##cial syndrome ##s . [SEP]\n",
      "[NeMo I 2022-02-18 22:49:53 token_classification_dataset:156] loss_mask: 1 1 1 1 1 1 1 1 1 1 1 1 1 1 1 1 1 1 1 1 1 1 1 1 1 1 1 1 1 1 1 1 1 0 0 0 0 0 0 0 0 0 0 0 0 0 0 0 0 0 0 0 0 0 0 0 0 0 0 0 0 0 0 0 0 0 0 0 0 0 0 0 0 0 0 0 0 0 0 0 0 0 0 0 0 0 0 0 0 0 0 0 0 0 0 0 0 0 0 0 0 0 0 0 0 0 0 0 0 0 0 0 0 0 0 0 0 0 0 0 0 0 0 0 0 0 0 0\n",
      "[NeMo I 2022-02-18 22:49:53 token_classification_dataset:157] input_mask: 1 1 1 1 1 1 1 1 1 1 1 1 1 1 1 1 1 1 1 1 1 1 1 1 1 1 1 1 1 1 1 1 1 0 0 0 0 0 0 0 0 0 0 0 0 0 0 0 0 0 0 0 0 0 0 0 0 0 0 0 0 0 0 0 0 0 0 0 0 0 0 0 0 0 0 0 0 0 0 0 0 0 0 0 0 0 0 0 0 0 0 0 0 0 0 0 0 0 0 0 0 0 0 0 0 0 0 0 0 0 0 0 0 0 0 0 0 0 0 0 0 0 0 0 0 0 0 0\n",
      "[NeMo I 2022-02-18 22:49:53 token_classification_dataset:158] subtokens_mask: 0 1 0 1 1 1 1 1 0 0 1 1 0 0 1 0 1 1 1 0 0 0 1 1 0 0 0 0 0 1 0 1 0 0 0 0 0 0 0 0 0 0 0 0 0 0 0 0 0 0 0 0 0 0 0 0 0 0 0 0 0 0 0 0 0 0 0 0 0 0 0 0 0 0 0 0 0 0 0 0 0 0 0 0 0 0 0 0 0 0 0 0 0 0 0 0 0 0 0 0 0 0 0 0 0 0 0 0 0 0 0 0 0 0 0 0 0 0 0 0 0 0 0 0 0 0 0 0\n",
      "[NeMo I 2022-02-18 22:49:53 token_classification_dataset:160] labels: 0 0 0 0 0 0 0 4 4 4 0 4 4 4 0 0 0 0 3 3 3 3 9 9 9 9 9 9 9 9 9 0 0 0 0 0 0 0 0 0 0 0 0 0 0 0 0 0 0 0 0 0 0 0 0 0 0 0 0 0 0 0 0 0 0 0 0 0 0 0 0 0 0 0 0 0 0 0 0 0 0 0 0 0 0 0 0 0 0 0 0 0 0 0 0 0 0 0 0 0 0 0 0 0 0 0 0 0 0 0 0 0 0 0 0 0 0 0 0 0 0 0 0 0 0 0 0 0\n",
      "[NeMo I 2022-02-18 22:49:53 token_classification_dataset:269] features saved to ./cached_text_dev_LitCoin_IOB.txt_BertTokenizer_128_28996_-1\n",
      "[NeMo I 2022-02-18 22:49:53 token_classification_utils:54] Processing ./labels_dev_LitCoin_IOB.txt\n",
      "[NeMo I 2022-02-18 22:49:53 token_classification_utils:74] Using provided labels mapping {'O': 0, 'B-CellLine': 1, 'B-ChemicalEntity': 2, 'B-DiseaseOrPhenotypicFeature': 3, 'B-GeneOrGeneProduct': 4, 'B-OrganismTaxon': 5, 'B-SequenceVariant': 6, 'I-CellLine': 7, 'I-ChemicalEntity': 8, 'I-DiseaseOrPhenotypicFeature': 9, 'I-GeneOrGeneProduct': 10, 'I-OrganismTaxon': 11, 'I-SequenceVariant': 12}\n",
      "[NeMo I 2022-02-18 22:49:53 token_classification_utils:96] ./labels_dev_LitCoin_IOB_label_stats.tsv found, skipping stats calculation.\n",
      "[NeMo I 2022-02-18 22:49:53 token_classification_dataset:277] features restored from ./cached_text_dev_LitCoin_IOB.txt_BertTokenizer_128_28996_-1\n"
     ]
    },
    {
     "name": "stderr",
     "output_type": "stream",
     "text": [
      "[NeMo W 2022-02-18 22:49:53 modelPT:197] You tried to register an artifact under config key=tokenizer.vocab_file but an artifact for it has already been registered.\n"
     ]
    },
    {
     "name": "stdout",
     "output_type": "stream",
     "text": [
      "[NeMo I 2022-02-18 22:49:53 megatron_utils:274] Downloading from https://api.ngc.nvidia.com/v2/models/nvidia/biomegatron345mcased/versions/0/files/MegatronBERT.pt\n",
      "using world size: 1, data-parallel-size: 1, tensor-model-parallel size: 1, pipeline-model-parallel size: 1 \n",
      "setting global batch size to 1\n",
      "using torch.float32 for parameters ...\n",
      "------------------------ arguments ------------------------\n",
      "  adam_beta1 ...................................... 0.9\n",
      "  adam_beta2 ...................................... 0.999\n",
      "  adam_eps ........................................ 1e-08\n",
      "  adlr_autoresume ................................. False\n",
      "  adlr_autoresume_interval ........................ 1000\n",
      "  apply_query_key_layer_scaling ................... True\n",
      "  apply_residual_connection_post_layernorm ........ False\n",
      "  attention_dropout ............................... 0.1\n",
      "  attention_softmax_in_fp32 ....................... False\n",
      "  bert_load ....................................... None\n",
      "  bias_dropout_fusion ............................. False\n",
      "  bias_gelu_fusion ................................ False\n",
      "  block_data_path ................................. None\n",
      "  checkpoint_activations .......................... False\n",
      "  checkpoint_num_layers ........................... 1\n",
      "  clip_grad ....................................... 1.0\n",
      "  consumed_train_samples .......................... 0\n",
      "  consumed_valid_samples .......................... 0\n",
      "  data_impl ....................................... infer\n",
      "  data_parallel_size .............................. 1\n",
      "  data_path ....................................... None\n",
      "  DDP_impl ........................................ local\n",
      "  distribute_checkpointed_activations ............. False\n",
      "  distributed_backend ............................. nccl\n",
      "  eod_mask_loss ................................... False\n",
      "  eval_interval ................................... 1000\n",
      "  eval_iters ...................................... 100\n",
      "  exit_duration_in_mins ........................... None\n",
      "  exit_interval ................................... None\n",
      "  faiss_use_gpu ................................... False\n",
      "  finetune ........................................ False\n",
      "  fp16 ............................................ False\n",
      "  fp16_lm_cross_entropy ........................... False\n",
      "  fp32_allreduce .................................. False\n",
      "  fp32_residual_connection ........................ False\n",
      "  global_batch_size ............................... 1\n",
      "  hidden_dropout .................................. 0.1\n",
      "  hidden_size ..................................... 1024\n",
      "  hysteresis ...................................... 2\n",
      "  ict_head_size ................................... None\n",
      "  ict_load ........................................ None\n",
      "  indexer_batch_size .............................. 128\n",
      "  indexer_log_interval ............................ 1000\n",
      "  init_method_std ................................. 0.02\n",
      "  initial_loss_scale .............................. 4294967296\n",
      "  layernorm_epsilon ............................... 1e-05\n",
      "  lazy_mpu_init ................................... True\n",
      "  load ............................................ None\n",
      "  local_rank ...................................... None\n",
      "  log_interval .................................... 100\n",
      "  loss_scale ...................................... None\n",
      "  loss_scale_window ............................... 1000\n",
      "  lr .............................................. None\n",
      "  lr_decay_iters .................................. None\n",
      "  lr_decay_samples ................................ None\n",
      "  lr_decay_style .................................. linear\n",
      "  lr_warmup_fraction .............................. None\n",
      "  lr_warmup_iters ................................. 0\n",
      "  lr_warmup_samples ............................... 0\n",
      "  make_vocab_size_divisible_by .................... 128\n",
      "  mask_prob ....................................... 0.15\n",
      "  max_position_embeddings ......................... 512\n",
      "  merge_file ...................................... None\n",
      "  micro_batch_size ................................ 1\n",
      "  min_loss_scale .................................. 1.0\n",
      "  min_lr .......................................... 0.0\n",
      "  mmap_warmup ..................................... False\n",
      "  no_load_optim ................................... False\n",
      "  no_load_rng ..................................... False\n",
      "  no_save_optim ................................... False\n",
      "  no_save_rng ..................................... False\n",
      "  num_attention_heads ............................. 16\n",
      "  num_layers ...................................... 24\n",
      "  num_workers ..................................... 2\n",
      "  onnx_safe ....................................... True\n",
      "  openai_gelu ..................................... False\n",
      "  override_lr_scheduler ........................... False\n",
      "  params_dtype .................................... torch.float32\n",
      "  pipeline_model_parallel_size .................... 1\n",
      "  query_in_block_prob ............................. 0.1\n",
      "  rampup_batch_size ............................... None\n",
      "  rank ............................................ 0\n",
      "  report_topk_accuracies .......................... []\n",
      "  reset_attention_mask ............................ False\n",
      "  reset_position_ids .............................. False\n",
      "  save ............................................ None\n",
      "  save_interval ................................... None\n",
      "  scaled_masked_softmax_fusion .................... False\n",
      "  scaled_upper_triang_masked_softmax_fusion ....... False\n",
      "  seed ............................................ 1234\n",
      "  seq_length ...................................... None\n",
      "  short_seq_prob .................................. 0.1\n",
      "  split ........................................... 969, 30, 1\n",
      "  tensor_model_parallel_size ...................... 1\n",
      "  tensorboard_dir ................................. None\n",
      "  titles_data_path ................................ None\n",
      "  tokenizer_type .................................. BertWordPieceLowerCase\n",
      "  train_iters ..................................... None\n",
      "  train_samples ................................... None\n",
      "  use_checkpoint_lr_scheduler ..................... False\n",
      "  use_cpu_initialization .......................... False\n",
      "  use_one_sent_docs ............................... False\n",
      "  vocab_file ...................................... /root/.cache/huggingface/nemo_nlp_tmp/c6c377d258d448da6d9259a4c9660f26/vocab.txt\n",
      "  weight_decay .................................... 0.01\n",
      "  world_size ...................................... 1\n",
      "-------------------- end of arguments ---------------------\n",
      "setting number of micro-batches to constant 1\n",
      "> building BertWordPieceLowerCase tokenizer ...\n",
      " > padded vocab (size: 28996) with 60 dummy tokens (new size: 29056)\n",
      "[NeMo I 2022-02-18 22:50:09 megatron_bert:118] Megatron-lm argparse args: Namespace(DDP_impl='local', adam_beta1=0.9, adam_beta2=0.999, adam_eps=1e-08, adlr_autoresume=False, adlr_autoresume_interval=1000, apply_query_key_layer_scaling=True, apply_residual_connection_post_layernorm=False, attention_dropout=0.1, attention_softmax_in_fp32=False, bert_load=None, bias_dropout_fusion=False, bias_gelu_fusion=False, block_data_path=None, checkpoint_activations=False, checkpoint_num_layers=1, clip_grad=1.0, consumed_train_samples=0, consumed_valid_samples=0, data_impl='infer', data_parallel_size=1, data_path=None, distribute_checkpointed_activations=False, distributed_backend='nccl', eod_mask_loss=False, eval_interval=1000, eval_iters=100, exit_duration_in_mins=None, exit_interval=None, faiss_use_gpu=False, finetune=False, fp16=False, fp16_lm_cross_entropy=False, fp32_allreduce=False, fp32_residual_connection=False, global_batch_size=1, hidden_dropout=0.1, hidden_size=1024, hysteresis=2, ict_head_size=None, ict_load=None, indexer_batch_size=128, indexer_log_interval=1000, init_method_std=0.02, initial_loss_scale=4294967296, layernorm_epsilon=1e-05, lazy_mpu_init=True, load=None, local_rank=None, log_interval=100, loss_scale=None, loss_scale_window=1000, lr=None, lr_decay_iters=None, lr_decay_samples=None, lr_decay_style='linear', lr_warmup_fraction=None, lr_warmup_iters=0, lr_warmup_samples=0, make_vocab_size_divisible_by=128, mask_prob=0.15, max_position_embeddings=512, merge_file=None, micro_batch_size=1, min_loss_scale=1.0, min_lr=0.0, mmap_warmup=False, no_load_optim=False, no_load_rng=False, no_save_optim=False, no_save_rng=False, num_attention_heads=16, num_layers=24, num_workers=2, onnx_safe=True, openai_gelu=False, override_lr_scheduler=False, padded_vocab_size=29056, params_dtype=torch.float32, pipeline_model_parallel_size=1, query_in_block_prob=0.1, rampup_batch_size=None, rank=0, report_topk_accuracies=[], reset_attention_mask=False, reset_position_ids=False, save=None, save_interval=None, scaled_masked_softmax_fusion=False, scaled_upper_triang_masked_softmax_fusion=False, seed=1234, seq_length=None, short_seq_prob=0.1, split='969, 30, 1', tensor_model_parallel_size=1, tensorboard_dir=None, titles_data_path=None, tokenizer_type='BertWordPieceLowerCase', train_iters=None, train_samples=None, use_checkpoint_lr_scheduler=False, use_cpu_initialization=True, use_one_sent_docs=False, vocab_file='/root/.cache/huggingface/nemo_nlp_tmp/c6c377d258d448da6d9259a4c9660f26/vocab.txt', weight_decay=0.01, world_size=1)\n"
     ]
    },
    {
     "name": "stderr",
     "output_type": "stream",
     "text": [
      "[NeMo W 2022-02-18 22:50:28 megatron_bert:204] Megatron-lm checkpoint version not found. Setting checkpoint_version to 0.\n"
     ]
    },
    {
     "name": "stdout",
     "output_type": "stream",
     "text": [
      "[NeMo I 2022-02-18 22:50:30 megatron_bert:212] Checkpoint loaded from from /root/.cache/torch/megatron/biomegatron-bert-345m-cased\n"
     ]
    }
   ],
   "source": [
    "model_ner = nemo_nlp.models.TokenClassificationModel(cfg=config.model, trainer=trainer)"
   ]
  },
  {
   "cell_type": "code",
   "execution_count": 13,
   "id": "56972869-ec7d-4fc6-8971-91afea1e7e04",
   "metadata": {
    "scrolled": true,
    "tags": []
   },
   "outputs": [
    {
     "name": "stderr",
     "output_type": "stream",
     "text": [
      "LOCAL_RANK: 0 - CUDA_VISIBLE_DEVICES: [0]\n"
     ]
    },
    {
     "name": "stdout",
     "output_type": "stream",
     "text": [
      "[NeMo I 2022-02-18 22:50:33 modelPT:544] Optimizer config = Adam (\n",
      "    Parameter Group 0\n",
      "        amsgrad: False\n",
      "        betas: (0.9, 0.999)\n",
      "        eps: 1e-08\n",
      "        lr: 5e-05\n",
      "        weight_decay: 0.0\n",
      "    )\n",
      "[NeMo I 2022-02-18 22:50:33 lr_scheduler:621] Scheduler \"<nemo.core.optim.lr_scheduler.WarmupAnnealing object at 0x7f26ff936100>\" \n",
      "    will be used during training (effective maximum steps = 357) - \n",
      "    Parameters : \n",
      "    (warmup_steps: null\n",
      "    warmup_ratio: 0.1\n",
      "    last_epoch: -1\n",
      "    max_steps: 357\n",
      "    )\n"
     ]
    },
    {
     "name": "stderr",
     "output_type": "stream",
     "text": [
      "\n",
      "  | Name                  | Type                 | Params\n",
      "---------------------------------------------------------------\n",
      "0 | bert_model            | MegatronBertEncoder  | 332 M \n",
      "1 | classifier            | TokenClassifier      | 1.1 M \n",
      "2 | loss                  | CrossEntropyLoss     | 0     \n",
      "3 | classification_report | ClassificationReport | 0     \n",
      "---------------------------------------------------------------\n",
      "333 M     Trainable params\n",
      "0         Non-trainable params\n",
      "333 M     Total params\n",
      "1,334.616 Total estimated model params size (MB)\n"
     ]
    },
    {
     "data": {
      "application/vnd.jupyter.widget-view+json": {
       "model_id": "",
       "version_major": 2,
       "version_minor": 0
      },
      "text/plain": [
       "Validation sanity check: 0it [00:00, ?it/s]"
      ]
     },
     "metadata": {},
     "output_type": "display_data"
    },
    {
     "name": "stderr",
     "output_type": "stream",
     "text": [
      "[NeMo W 2022-02-18 22:50:33 nemo_logging:349] /opt/conda/lib/python3.8/site-packages/pytorch_lightning/trainer/data_loading.py:105: UserWarning: The dataloader, val dataloader 0, does not have many workers which may be a bottleneck. Consider increasing the value of the `num_workers` argument` (try 80 which is the number of cpus on this machine) in the `DataLoader` init to improve performance.\n",
      "      rank_zero_warn(\n",
      "    \n"
     ]
    },
    {
     "name": "stdout",
     "output_type": "stream",
     "text": [
      "> initializing torch distributed ...\n"
     ]
    },
    {
     "name": "stderr",
     "output_type": "stream",
     "text": [
      "I0218 22:50:34.109622 139808715183936 distributed_c10d.py:214] Added key: store_based_barrier_key:1 to store for rank: 0\n",
      "I0218 22:50:34.111293 139808715183936 distributed_c10d.py:248] Rank 0: Completed store-based barrier for key:store_based_barrier_key:1 with 1 nodes.\n",
      "I0218 22:50:34.113165 139808715183936 distributed_c10d.py:214] Added key: store_based_barrier_key:2 to store for rank: 0\n",
      "I0218 22:50:34.113949 139808715183936 distributed_c10d.py:248] Rank 0: Completed store-based barrier for key:store_based_barrier_key:2 with 1 nodes.\n",
      "I0218 22:50:34.115290 139808715183936 distributed_c10d.py:214] Added key: store_based_barrier_key:3 to store for rank: 0\n",
      "I0218 22:50:34.115967 139808715183936 distributed_c10d.py:248] Rank 0: Completed store-based barrier for key:store_based_barrier_key:3 with 1 nodes.\n",
      "I0218 22:50:34.117381 139808715183936 distributed_c10d.py:214] Added key: store_based_barrier_key:4 to store for rank: 0\n",
      "I0218 22:50:34.118261 139808715183936 distributed_c10d.py:248] Rank 0: Completed store-based barrier for key:store_based_barrier_key:4 with 1 nodes.\n",
      "I0218 22:50:34.119611 139808715183936 distributed_c10d.py:214] Added key: store_based_barrier_key:5 to store for rank: 0\n",
      "I0218 22:50:34.120309 139808715183936 distributed_c10d.py:248] Rank 0: Completed store-based barrier for key:store_based_barrier_key:5 with 1 nodes.\n",
      "I0218 22:50:34.121643 139808715183936 distributed_c10d.py:214] Added key: store_based_barrier_key:6 to store for rank: 0\n",
      "I0218 22:50:34.122399 139808715183936 distributed_c10d.py:248] Rank 0: Completed store-based barrier for key:store_based_barrier_key:6 with 1 nodes.\n"
     ]
    },
    {
     "name": "stdout",
     "output_type": "stream",
     "text": [
      "> initializing tensor model parallel with size 1\n",
      "> initializing pipeline model parallel with size 1\n",
      "> setting random seeds to 1234 ...\n",
      "> initializing model parallel cuda seeds on global rank 0, model parallel rank 0, and data parallel rank 0 with model parallel seed: 3952 and data parallel seed: 1234\n",
      "[NeMo I 2022-02-18 22:50:36 token_classification_model:176] \n",
      "    label                                                precision    recall       f1           support   \n",
      "    O (label_id: 0)                                         90.43      22.13      35.56       3158\n",
      "    B-CellLine (label_id: 1)                                 0.00       0.00       0.00          0\n",
      "    B-ChemicalEntity (label_id: 2)                           2.99       3.33       3.15         60\n",
      "    B-DiseaseOrPhenotypicFeature (label_id: 3)               2.27       8.70       3.60         92\n",
      "    B-GeneOrGeneProduct (label_id: 4)                        0.27       0.89       0.41        112\n",
      "    B-OrganismTaxon (label_id: 5)                            0.00       0.00       0.00         47\n",
      "    B-SequenceVariant (label_id: 6)                          5.00       3.85       4.35         26\n",
      "    I-CellLine (label_id: 7)                                 0.00       0.00       0.00          0\n",
      "    I-ChemicalEntity (label_id: 8)                           0.00       0.00       0.00         13\n",
      "    I-DiseaseOrPhenotypicFeature (label_id: 9)               3.57       2.11       2.65         95\n",
      "    I-GeneOrGeneProduct (label_id: 10)                       5.77       6.98       6.32         86\n",
      "    I-OrganismTaxon (label_id: 11)                           0.15      25.00       0.30          4\n",
      "    I-SequenceVariant (label_id: 12)                         0.00       0.00       0.00         55\n",
      "    -------------------\n",
      "    micro avg                                               19.21      19.21      19.21       3748\n",
      "    macro avg                                               10.04       6.63       5.12       3748\n",
      "    weighted avg                                            76.56      19.21      30.36       3748\n",
      "    \n"
     ]
    },
    {
     "name": "stderr",
     "output_type": "stream",
     "text": [
      "[NeMo W 2022-02-18 22:50:36 nemo_logging:349] /opt/conda/lib/python3.8/site-packages/pytorch_lightning/trainer/data_loading.py:105: UserWarning: The dataloader, train dataloader, does not have many workers which may be a bottleneck. Consider increasing the value of the `num_workers` argument` (try 80 which is the number of cpus on this machine) in the `DataLoader` init to improve performance.\n",
      "      rank_zero_warn(\n",
      "    \n"
     ]
    },
    {
     "data": {
      "application/vnd.jupyter.widget-view+json": {
       "model_id": "e326633e0e4c4ad49e460faa54acf941",
       "version_major": 2,
       "version_minor": 0
      },
      "text/plain": [
       "Training: -1it [00:00, ?it/s]"
      ]
     },
     "metadata": {},
     "output_type": "display_data"
    },
    {
     "data": {
      "application/vnd.jupyter.widget-view+json": {
       "model_id": "",
       "version_major": 2,
       "version_minor": 0
      },
      "text/plain": [
       "Validating: 0it [00:00, ?it/s]"
      ]
     },
     "metadata": {},
     "output_type": "display_data"
    },
    {
     "name": "stdout",
     "output_type": "stream",
     "text": [
      "[NeMo I 2022-02-18 22:51:13 token_classification_model:176] \n",
      "    label                                                precision    recall       f1           support   \n",
      "    O (label_id: 0)                                         97.03      98.75      97.88      20753\n",
      "    B-CellLine (label_id: 1)                                 0.00       0.00       0.00         30\n",
      "    B-ChemicalEntity (label_id: 2)                          76.60      84.80      80.49        467\n",
      "    B-DiseaseOrPhenotypicFeature (label_id: 3)              56.36      91.10      69.63        730\n",
      "    B-GeneOrGeneProduct (label_id: 4)                       84.64      92.17      88.25        843\n",
      "    B-OrganismTaxon (label_id: 5)                            0.00       0.00       0.00        227\n",
      "    B-SequenceVariant (label_id: 6)                         41.58      87.96      56.47        191\n",
      "    I-CellLine (label_id: 7)                                 0.00       0.00       0.00         12\n",
      "    I-ChemicalEntity (label_id: 8)                           0.00       0.00       0.00         95\n",
      "    I-DiseaseOrPhenotypicFeature (label_id: 9)              87.70      20.11      32.72        532\n",
      "    I-GeneOrGeneProduct (label_id: 10)                      89.06      61.96      73.08        368\n",
      "    I-OrganismTaxon (label_id: 11)                           0.00       0.00       0.00         12\n",
      "    I-SequenceVariant (label_id: 12)                        50.00       0.38       0.76        262\n",
      "    -------------------\n",
      "    micro avg                                               93.12      93.12      93.12      24522\n",
      "    macro avg                                               44.84      41.32      38.41      24522\n",
      "    weighted avg                                            92.26      93.12      91.73      24522\n",
      "    \n"
     ]
    },
    {
     "name": "stderr",
     "output_type": "stream",
     "text": [
      "Epoch 0, global step 50: val_loss reached 0.30717 (best 0.30717), saving model to \"/workspace/nemo/nemo_experiments/token_classification_model/2022-02-18_22-49-37/checkpoints/token_classification_model--val_loss=0.3072-epoch=0.ckpt\" as top 3\n"
     ]
    },
    {
     "data": {
      "application/vnd.jupyter.widget-view+json": {
       "model_id": "",
       "version_major": 2,
       "version_minor": 0
      },
      "text/plain": [
       "Validating: 0it [00:00, ?it/s]"
      ]
     },
     "metadata": {},
     "output_type": "display_data"
    },
    {
     "name": "stdout",
     "output_type": "stream",
     "text": [
      "[NeMo I 2022-02-18 22:53:10 token_classification_model:176] \n",
      "    label                                                precision    recall       f1           support   \n",
      "    O (label_id: 0)                                         98.84      98.32      98.58      20753\n",
      "    B-CellLine (label_id: 1)                                71.79      93.33      81.16         30\n",
      "    B-ChemicalEntity (label_id: 2)                          86.31      89.08      87.67        467\n",
      "    B-DiseaseOrPhenotypicFeature (label_id: 3)              78.67      88.90      83.47        730\n",
      "    B-GeneOrGeneProduct (label_id: 4)                       95.01      92.53      93.75        843\n",
      "    B-OrganismTaxon (label_id: 5)                           86.09      87.22      86.65        227\n",
      "    B-SequenceVariant (label_id: 6)                         70.35      83.25      76.26        191\n",
      "    I-CellLine (label_id: 7)                                 0.00       0.00       0.00         12\n",
      "    I-ChemicalEntity (label_id: 8)                          71.56      82.11      76.47         95\n",
      "    I-DiseaseOrPhenotypicFeature (label_id: 9)              80.04      79.14      79.58        532\n",
      "    I-GeneOrGeneProduct (label_id: 10)                      90.70      87.50      89.07        368\n",
      "    I-OrganismTaxon (label_id: 11)                           0.00       0.00       0.00         12\n",
      "    I-SequenceVariant (label_id: 12)                        73.58      74.43      74.00        262\n",
      "    -------------------\n",
      "    micro avg                                               96.44      96.44      96.44      24522\n",
      "    macro avg                                               69.46      73.52      71.28      24522\n",
      "    weighted avg                                            96.49      96.44      96.45      24522\n",
      "    \n"
     ]
    },
    {
     "name": "stderr",
     "output_type": "stream",
     "text": [
      "Epoch 1, global step 101: val_loss reached 0.16128 (best 0.16128), saving model to \"/workspace/nemo/nemo_experiments/token_classification_model/2022-02-18_22-49-37/checkpoints/token_classification_model--val_loss=0.1613-epoch=1.ckpt\" as top 3\n"
     ]
    },
    {
     "data": {
      "application/vnd.jupyter.widget-view+json": {
       "model_id": "",
       "version_major": 2,
       "version_minor": 0
      },
      "text/plain": [
       "Validating: 0it [00:00, ?it/s]"
      ]
     },
     "metadata": {},
     "output_type": "display_data"
    },
    {
     "name": "stdout",
     "output_type": "stream",
     "text": [
      "[NeMo I 2022-02-18 22:55:07 token_classification_model:176] \n",
      "    label                                                precision    recall       f1           support   \n",
      "    O (label_id: 0)                                         99.02      98.22      98.62      20753\n",
      "    B-CellLine (label_id: 1)                                72.50      96.67      82.86         30\n",
      "    B-ChemicalEntity (label_id: 2)                          88.24      89.94      89.08        467\n",
      "    B-DiseaseOrPhenotypicFeature (label_id: 3)              83.79      84.25      84.02        730\n",
      "    B-GeneOrGeneProduct (label_id: 4)                       94.86      94.19      94.52        843\n",
      "    B-OrganismTaxon (label_id: 5)                           85.27      96.92      90.72        227\n",
      "    B-SequenceVariant (label_id: 6)                         69.92      86.39      77.28        191\n",
      "    I-CellLine (label_id: 7)                                 0.00       0.00       0.00         12\n",
      "    I-ChemicalEntity (label_id: 8)                          72.48      83.16      77.45         95\n",
      "    I-DiseaseOrPhenotypicFeature (label_id: 9)              73.72      86.47      79.58        532\n",
      "    I-GeneOrGeneProduct (label_id: 10)                      88.77      92.39      90.55        368\n",
      "    I-OrganismTaxon (label_id: 11)                          66.67      16.67      26.67         12\n",
      "    I-SequenceVariant (label_id: 12)                        81.01      73.28      76.95        262\n",
      "    -------------------\n",
      "    micro avg                                               96.64      96.64      96.64      24522\n",
      "    macro avg                                               75.10      76.81      74.48      24522\n",
      "    weighted avg                                            96.77      96.64      96.67      24522\n",
      "    \n"
     ]
    },
    {
     "name": "stderr",
     "output_type": "stream",
     "text": [
      "Epoch 2, global step 152: val_loss reached 0.15300 (best 0.15300), saving model to \"/workspace/nemo/nemo_experiments/token_classification_model/2022-02-18_22-49-37/checkpoints/token_classification_model--val_loss=0.1530-epoch=2.ckpt\" as top 3\n"
     ]
    },
    {
     "data": {
      "application/vnd.jupyter.widget-view+json": {
       "model_id": "",
       "version_major": 2,
       "version_minor": 0
      },
      "text/plain": [
       "Validating: 0it [00:00, ?it/s]"
      ]
     },
     "metadata": {},
     "output_type": "display_data"
    },
    {
     "name": "stdout",
     "output_type": "stream",
     "text": [
      "[NeMo I 2022-02-18 22:56:59 token_classification_model:176] \n",
      "    label                                                precision    recall       f1           support   \n",
      "    O (label_id: 0)                                         99.01      98.36      98.69      20753\n",
      "    B-CellLine (label_id: 1)                                80.56      96.67      87.88         30\n",
      "    B-ChemicalEntity (label_id: 2)                          89.76      88.22      88.98        467\n",
      "    B-DiseaseOrPhenotypicFeature (label_id: 3)              81.67      87.26      84.37        730\n",
      "    B-GeneOrGeneProduct (label_id: 4)                       93.69      95.14      94.41        843\n",
      "    B-OrganismTaxon (label_id: 5)                           88.05      97.36      92.47        227\n",
      "    B-SequenceVariant (label_id: 6)                         85.49      86.39      85.94        191\n",
      "    I-CellLine (label_id: 7)                               100.00      33.33      50.00         12\n",
      "    I-ChemicalEntity (label_id: 8)                          72.32      85.26      78.26         95\n",
      "    I-DiseaseOrPhenotypicFeature (label_id: 9)              73.95      86.47      79.72        532\n",
      "    I-GeneOrGeneProduct (label_id: 10)                      89.89      91.85      90.86        368\n",
      "    I-OrganismTaxon (label_id: 11)                          60.00      25.00      35.29         12\n",
      "    I-SequenceVariant (label_id: 12)                        89.57      72.14      79.92        262\n",
      "    -------------------\n",
      "    micro avg                                               96.87      96.87      96.87      24522\n",
      "    macro avg                                               84.92      80.26      80.52      24522\n",
      "    weighted avg                                            97.00      96.87      96.89      24522\n",
      "    \n"
     ]
    },
    {
     "name": "stderr",
     "output_type": "stream",
     "text": [
      "Epoch 3, global step 203: val_loss reached 0.15913 (best 0.15300), saving model to \"/workspace/nemo/nemo_experiments/token_classification_model/2022-02-18_22-49-37/checkpoints/token_classification_model--val_loss=0.1591-epoch=3.ckpt\" as top 3\n"
     ]
    },
    {
     "data": {
      "application/vnd.jupyter.widget-view+json": {
       "model_id": "",
       "version_major": 2,
       "version_minor": 0
      },
      "text/plain": [
       "Validating: 0it [00:00, ?it/s]"
      ]
     },
     "metadata": {},
     "output_type": "display_data"
    },
    {
     "name": "stdout",
     "output_type": "stream",
     "text": [
      "[NeMo I 2022-02-18 22:59:09 token_classification_model:176] \n",
      "    label                                                precision    recall       f1           support   \n",
      "    O (label_id: 0)                                         99.01      98.41      98.71      20753\n",
      "    B-CellLine (label_id: 1)                                90.91     100.00      95.24         30\n",
      "    B-ChemicalEntity (label_id: 2)                          89.89      89.51      89.70        467\n",
      "    B-DiseaseOrPhenotypicFeature (label_id: 3)              84.31      86.85      85.56        730\n",
      "    B-GeneOrGeneProduct (label_id: 4)                       94.03      95.26      94.64        843\n",
      "    B-OrganismTaxon (label_id: 5)                           84.85      98.68      91.24        227\n",
      "    B-SequenceVariant (label_id: 6)                         84.16      89.01      86.51        191\n",
      "    I-CellLine (label_id: 7)                               100.00      83.33      90.91         12\n",
      "    I-ChemicalEntity (label_id: 8)                          77.45      83.16      80.20         95\n",
      "    I-DiseaseOrPhenotypicFeature (label_id: 9)              78.03      83.46      80.65        532\n",
      "    I-GeneOrGeneProduct (label_id: 10)                      89.82      93.48      91.61        368\n",
      "    I-OrganismTaxon (label_id: 11)                          81.82      75.00      78.26         12\n",
      "    I-SequenceVariant (label_id: 12)                        84.27      79.77      81.96        262\n",
      "    -------------------\n",
      "    micro avg                                               97.05      97.05      97.05      24522\n",
      "    macro avg                                               87.58      88.92      88.09      24522\n",
      "    weighted avg                                            97.13      97.05      97.08      24522\n",
      "    \n"
     ]
    },
    {
     "name": "stderr",
     "output_type": "stream",
     "text": [
      "Epoch 4, global step 254: val_loss reached 0.15971 (best 0.15300), saving model to \"/workspace/nemo/nemo_experiments/token_classification_model/2022-02-18_22-49-37/checkpoints/token_classification_model--val_loss=0.1597-epoch=4.ckpt\" as top 3\n"
     ]
    },
    {
     "data": {
      "application/vnd.jupyter.widget-view+json": {
       "model_id": "",
       "version_major": 2,
       "version_minor": 0
      },
      "text/plain": [
       "Validating: 0it [00:00, ?it/s]"
      ]
     },
     "metadata": {},
     "output_type": "display_data"
    },
    {
     "name": "stdout",
     "output_type": "stream",
     "text": [
      "[NeMo I 2022-02-18 23:00:55 token_classification_model:176] \n",
      "    label                                                precision    recall       f1           support   \n",
      "    O (label_id: 0)                                         99.04      98.31      98.67      20753\n",
      "    B-CellLine (label_id: 1)                                93.75     100.00      96.77         30\n",
      "    B-ChemicalEntity (label_id: 2)                          88.49      90.58      89.52        467\n",
      "    B-DiseaseOrPhenotypicFeature (label_id: 3)              85.41      87.40      86.39        730\n",
      "    B-GeneOrGeneProduct (label_id: 4)                       93.69      95.14      94.41        843\n",
      "    B-OrganismTaxon (label_id: 5)                           86.77      98.24      92.15        227\n",
      "    B-SequenceVariant (label_id: 6)                         80.57      89.01      84.58        191\n",
      "    I-CellLine (label_id: 7)                               100.00      91.67      95.65         12\n",
      "    I-ChemicalEntity (label_id: 8)                          73.15      83.16      77.83         95\n",
      "    I-DiseaseOrPhenotypicFeature (label_id: 9)              77.54      83.08      80.22        532\n",
      "    I-GeneOrGeneProduct (label_id: 10)                      88.34      92.66      90.45        368\n",
      "    I-OrganismTaxon (label_id: 11)                          81.82      75.00      78.26         12\n",
      "    I-SequenceVariant (label_id: 12)                        82.28      79.77      81.01        262\n",
      "    -------------------\n",
      "    micro avg                                               96.97      96.97      96.97      24522\n",
      "    macro avg                                               86.99      89.54      88.15      24522\n",
      "    weighted avg                                            97.07      96.97      97.01      24522\n",
      "    \n"
     ]
    },
    {
     "name": "stderr",
     "output_type": "stream",
     "text": [
      "Epoch 5, global step 305: val_loss was not in top 3\n"
     ]
    },
    {
     "data": {
      "application/vnd.jupyter.widget-view+json": {
       "model_id": "",
       "version_major": 2,
       "version_minor": 0
      },
      "text/plain": [
       "Validating: 0it [00:00, ?it/s]"
      ]
     },
     "metadata": {},
     "output_type": "display_data"
    },
    {
     "name": "stdout",
     "output_type": "stream",
     "text": [
      "[NeMo I 2022-02-18 23:02:08 token_classification_model:176] \n",
      "    label                                                precision    recall       f1           support   \n",
      "    O (label_id: 0)                                         99.07      98.29      98.68      20753\n",
      "    B-CellLine (label_id: 1)                                93.75     100.00      96.77         30\n",
      "    B-ChemicalEntity (label_id: 2)                          90.52      89.94      90.23        467\n",
      "    B-DiseaseOrPhenotypicFeature (label_id: 3)              84.82      87.26      86.02        730\n",
      "    B-GeneOrGeneProduct (label_id: 4)                       93.81      95.26      94.53        843\n",
      "    B-OrganismTaxon (label_id: 5)                           86.49      98.68      92.18        227\n",
      "    B-SequenceVariant (label_id: 6)                         80.19      89.01      84.37        191\n",
      "    I-CellLine (label_id: 7)                               100.00      91.67      95.65         12\n",
      "    I-ChemicalEntity (label_id: 8)                          74.07      84.21      78.82         95\n",
      "    I-DiseaseOrPhenotypicFeature (label_id: 9)              76.23      84.40      80.11        532\n",
      "    I-GeneOrGeneProduct (label_id: 10)                      88.60      92.93      90.72        368\n",
      "    I-OrganismTaxon (label_id: 11)                          81.82      75.00      78.26         12\n",
      "    I-SequenceVariant (label_id: 12)                        82.61      79.77      81.17        262\n",
      "    -------------------\n",
      "    micro avg                                               96.98      96.98      96.98      24522\n",
      "    macro avg                                               87.07      89.72      88.27      24522\n",
      "    weighted avg                                            97.10      96.98      97.02      24522\n",
      "    \n"
     ]
    },
    {
     "name": "stderr",
     "output_type": "stream",
     "text": [
      "Epoch 6, global step 356: val_loss was not in top 3\n"
     ]
    }
   ],
   "source": [
    "# start model training\n",
    "trainer.fit(model_ner)"
   ]
  },
  {
   "cell_type": "code",
   "execution_count": 14,
   "id": "1329a2a7-3e65-4f39-840a-9551dc0163e3",
   "metadata": {},
   "outputs": [
    {
     "name": "stdout",
     "output_type": "stream",
     "text": [
      "[NeMo I 2022-02-18 23:04:58 token_classification_dataset:121] Setting Max Seq length to: 240\n",
      "[NeMo I 2022-02-18 23:04:58 data_preprocessing:358] Some stats of the lengths of the sequences:\n",
      "[NeMo I 2022-02-18 23:04:58 data_preprocessing:360] Min: 4 |                  Max: 240 |                  Mean: 44.443361753958584 |                  Median: 40.0\n",
      "[NeMo I 2022-02-18 23:04:58 data_preprocessing:366] 75 percentile: 54.00\n",
      "[NeMo I 2022-02-18 23:04:58 data_preprocessing:367] 99 percentile: 115.80\n"
     ]
    },
    {
     "name": "stderr",
     "output_type": "stream",
     "text": [
      "[NeMo W 2022-02-18 23:04:58 token_classification_dataset:150] 0 are longer than 240\n"
     ]
    },
    {
     "name": "stdout",
     "output_type": "stream",
     "text": [
      "[NeMo I 2022-02-18 23:04:58 token_classification_dataset:153] *** Example ***\n",
      "[NeMo I 2022-02-18 23:04:58 token_classification_dataset:154] i: 0\n",
      "[NeMo I 2022-02-18 23:04:58 token_classification_dataset:155] subtokens: [CLS] Alt ##ered replication timing of the H ##IR ##A / Tu ##ple ##1 lo ##cus in the Di ##G ##eor ##ge and V ##elo ##card ##io ##fa ##cial syndrome ##s . [SEP]\n",
      "[NeMo I 2022-02-18 23:04:58 token_classification_dataset:156] loss_mask: 1 1 1 1 1 1 1 1 1 1 1 1 1 1 1 1 1 1 1 1 1 1 1 1 1 1 1 1 1 1 1 1 1 0 0 0 0 0 0 0 0 0 0 0 0 0 0 0 0 0 0 0 0 0 0 0 0 0 0 0 0 0 0 0 0 0 0 0 0 0 0 0 0 0 0 0 0 0 0 0 0 0 0 0 0 0 0 0 0 0 0 0 0 0 0 0 0 0 0 0 0 0 0 0 0 0 0 0 0 0 0 0 0 0 0 0 0 0 0 0 0 0 0 0 0 0 0 0 0 0 0 0 0 0 0 0 0 0 0 0 0 0 0 0 0 0 0 0 0 0 0 0 0 0 0 0 0 0 0 0 0 0 0 0 0 0 0 0 0 0 0 0 0 0 0 0 0 0 0 0 0 0 0 0 0 0 0 0 0 0 0 0 0 0 0 0 0 0 0 0 0 0 0 0 0 0 0 0 0 0 0 0 0 0 0 0 0 0 0 0 0 0 0 0 0 0 0 0 0 0 0 0 0 0 0 0 0 0 0 0\n",
      "[NeMo I 2022-02-18 23:04:58 token_classification_dataset:157] input_mask: 1 1 1 1 1 1 1 1 1 1 1 1 1 1 1 1 1 1 1 1 1 1 1 1 1 1 1 1 1 1 1 1 1 0 0 0 0 0 0 0 0 0 0 0 0 0 0 0 0 0 0 0 0 0 0 0 0 0 0 0 0 0 0 0 0 0 0 0 0 0 0 0 0 0 0 0 0 0 0 0 0 0 0 0 0 0 0 0 0 0 0 0 0 0 0 0 0 0 0 0 0 0 0 0 0 0 0 0 0 0 0 0 0 0 0 0 0 0 0 0 0 0 0 0 0 0 0 0 0 0 0 0 0 0 0 0 0 0 0 0 0 0 0 0 0 0 0 0 0 0 0 0 0 0 0 0 0 0 0 0 0 0 0 0 0 0 0 0 0 0 0 0 0 0 0 0 0 0 0 0 0 0 0 0 0 0 0 0 0 0 0 0 0 0 0 0 0 0 0 0 0 0 0 0 0 0 0 0 0 0 0 0 0 0 0 0 0 0 0 0 0 0 0 0 0 0 0 0 0 0 0 0 0 0 0 0 0 0 0 0\n",
      "[NeMo I 2022-02-18 23:04:58 token_classification_dataset:158] subtokens_mask: 0 1 0 1 1 1 1 1 0 0 1 1 0 0 1 0 1 1 1 0 0 0 1 1 0 0 0 0 0 1 0 1 0 0 0 0 0 0 0 0 0 0 0 0 0 0 0 0 0 0 0 0 0 0 0 0 0 0 0 0 0 0 0 0 0 0 0 0 0 0 0 0 0 0 0 0 0 0 0 0 0 0 0 0 0 0 0 0 0 0 0 0 0 0 0 0 0 0 0 0 0 0 0 0 0 0 0 0 0 0 0 0 0 0 0 0 0 0 0 0 0 0 0 0 0 0 0 0 0 0 0 0 0 0 0 0 0 0 0 0 0 0 0 0 0 0 0 0 0 0 0 0 0 0 0 0 0 0 0 0 0 0 0 0 0 0 0 0 0 0 0 0 0 0 0 0 0 0 0 0 0 0 0 0 0 0 0 0 0 0 0 0 0 0 0 0 0 0 0 0 0 0 0 0 0 0 0 0 0 0 0 0 0 0 0 0 0 0 0 0 0 0 0 0 0 0 0 0 0 0 0 0 0 0 0 0 0 0 0 0\n",
      "[NeMo I 2022-02-18 23:05:27 token_classification_model:481] Labels save to /workspace/nemo/nemo_experiments/token_classification_model/2022-02-18_22-49-37/infer_text_dev_LitCoin_IOB.txt\n",
      "[NeMo I 2022-02-18 23:05:27 token_classification_model:487] Predictions saved to /workspace/nemo/nemo_experiments/token_classification_model/2022-02-18_22-49-37/infer_text_dev_LitCoin_IOB.txt\n",
      "[NeMo I 2022-02-18 23:05:28 utils_funcs:94] Confusion matrix saved to /workspace/nemo/nemo_experiments/token_classification_model/2022-02-18_22-49-37/Normalized_Confusion_matrix_20220218-230528\n",
      "[NeMo I 2022-02-18 23:05:28 token_classification_model:498]                                             precision    recall  f1-score   support\n",
      "    \n",
      "                               O (label id: 0)     0.9907    0.9829    0.9868     20805\n",
      "                      B-CellLine (label id: 1)     0.9375    1.0000    0.9677        30\n",
      "                B-ChemicalEntity (label id: 2)     0.9052    0.8994    0.9023       467\n",
      "    B-DiseaseOrPhenotypicFeature (label id: 3)     0.8482    0.8714    0.8596       731\n",
      "             B-GeneOrGeneProduct (label id: 4)     0.9392    0.9534    0.9463       859\n",
      "                 B-OrganismTaxon (label id: 5)     0.8649    0.9868    0.9218       227\n",
      "               B-SequenceVariant (label id: 6)     0.8019    0.8901    0.8437       191\n",
      "                      I-CellLine (label id: 7)     1.0000    0.9167    0.9565        12\n",
      "                I-ChemicalEntity (label id: 8)     0.7407    0.8421    0.7882        95\n",
      "    I-DiseaseOrPhenotypicFeature (label id: 9)     0.7623    0.8440    0.8011       532\n",
      "            I-GeneOrGeneProduct (label id: 10)     0.8860    0.9293    0.9072       368\n",
      "                I-OrganismTaxon (label id: 11)     0.8182    0.7500    0.7826        12\n",
      "              I-SequenceVariant (label id: 12)     0.8261    0.7977    0.8117       262\n",
      "    \n",
      "                                      accuracy                         0.9699     24591\n",
      "                                     macro avg     0.8708    0.8972    0.8827     24591\n",
      "                                  weighted avg     0.9710    0.9699    0.9703     24591\n",
      "    \n"
     ]
    },
    {
     "data": {
      "image/png": "[encoded data removed]",
      "text/plain": [
       "<Figure size 432x288 with 2 Axes>"
      ]
     },
     "metadata": {
      "needs_background": "light"
     },
     "output_type": "display_data"
    }
   ],
   "source": [
    "model_ner.evaluate_from_file(\n",
    "    text_file='./text_dev_LitCoin_IOB.txt',\n",
    "    labels_file='./labels_dev_LitCoin_IOB.txt',\n",
    "    output_dir=exp_dir,\n",
    "    add_confusion_matrix=True,\n",
    "    normalize_confusion_matrix=True,\n",
    ")"
   ]
  },
  {
   "cell_type": "markdown",
   "id": "3af06a25-209c-440b-9bfb-da85ff4875a5",
   "metadata": {},
   "source": [
    "# Entity Classification"
   ]
  },
  {
   "cell_type": "code",
   "execution_count": 15,
   "id": "9eb3f7ba-8cfc-4044-8d0b-22a3e793ad8f",
   "metadata": {},
   "outputs": [
    {
     "name": "stdout",
     "output_type": "stream",
     "text": [
      "Collecting seaborn\n",
      "  Downloading seaborn-0.11.2-py3-none-any.whl (292 kB)\n",
      "\u001b[K     |████████████████████████████████| 292 kB 26.0 MB/s eta 0:00:01\n",
      "\u001b[?25hRequirement already satisfied: matplotlib>=2.2 in /opt/conda/lib/python3.8/site-packages (from seaborn) (3.4.3)\n",
      "Requirement already satisfied: pandas>=0.23 in /opt/conda/lib/python3.8/site-packages (from seaborn) (1.3.3)\n",
      "Requirement already satisfied: numpy>=1.15 in /opt/conda/lib/python3.8/site-packages (from seaborn) (1.21.2)\n",
      "Requirement already satisfied: scipy>=1.0 in /opt/conda/lib/python3.8/site-packages (from seaborn) (1.6.3)\n",
      "Requirement already satisfied: cycler>=0.10 in /opt/conda/lib/python3.8/site-packages (from matplotlib>=2.2->seaborn) (0.10.0)\n",
      "Requirement already satisfied: python-dateutil>=2.7 in /opt/conda/lib/python3.8/site-packages (from matplotlib>=2.2->seaborn) (2.8.2)\n",
      "Requirement already satisfied: kiwisolver>=1.0.1 in /opt/conda/lib/python3.8/site-packages (from matplotlib>=2.2->seaborn) (1.3.1)\n",
      "Requirement already satisfied: pillow>=6.2.0 in /opt/conda/lib/python3.8/site-packages (from matplotlib>=2.2->seaborn) (8.2.0)\n",
      "Requirement already satisfied: pyparsing>=2.2.1 in /opt/conda/lib/python3.8/site-packages (from matplotlib>=2.2->seaborn) (2.4.7)\n",
      "Requirement already satisfied: six in /opt/conda/lib/python3.8/site-packages (from cycler>=0.10->matplotlib>=2.2->seaborn) (1.16.0)\n",
      "Requirement already satisfied: pytz>=2017.3 in /opt/conda/lib/python3.8/site-packages (from pandas>=0.23->seaborn) (2021.1)\n",
      "Installing collected packages: seaborn\n",
      "Successfully installed seaborn-0.11.2\n",
      "\u001b[33mWARNING: Running pip as the 'root' user can result in broken permissions and conflicting behaviour with the system package manager. It is recommended to use a virtual environment instead: https://pip.pypa.io/warnings/venv\u001b[0m\n"
     ]
    }
   ],
   "source": [
    "!pip3 install seaborn"
   ]
  },
  {
   "cell_type": "code",
   "execution_count": 16,
   "id": "a85401b5-2dba-4ca6-99de-bf288da35955",
   "metadata": {},
   "outputs": [],
   "source": [
    "from sklearn.metrics import confusion_matrix\n",
    "import seaborn as sn\n",
    "import matplotlib.pyplot as plt"
   ]
  },
  {
   "cell_type": "code",
   "execution_count": 18,
   "id": "6538edb0-496b-40ec-a1b0-660f29f255c7",
   "metadata": {},
   "outputs": [
    {
     "data": {
      "text/html": [
       "<div>\n",
       "<style scoped>\n",
       "    .dataframe tbody tr th:only-of-type {\n",
       "        vertical-align: middle;\n",
       "    }\n",
       "\n",
       "    .dataframe tbody tr th {\n",
       "        vertical-align: top;\n",
       "    }\n",
       "\n",
       "    .dataframe thead th {\n",
       "        text-align: right;\n",
       "    }\n",
       "</style>\n",
       "<table border=\"1\" class=\"dataframe\">\n",
       "  <thead>\n",
       "    <tr style=\"text-align: right;\">\n",
       "      <th></th>\n",
       "      <th>0</th>\n",
       "      <th>1</th>\n",
       "    </tr>\n",
       "  </thead>\n",
       "  <tbody>\n",
       "    <tr>\n",
       "      <th>0</th>\n",
       "      <td>labels</td>\n",
       "      <td>O O O O O B-GeneOrGeneProduct O B-GeneOrGenePr...</td>\n",
       "    </tr>\n",
       "    <tr>\n",
       "      <th>1</th>\n",
       "      <td>preds</td>\n",
       "      <td>O O O O O B-GeneOrGeneProduct O B-GeneOrGenePr...</td>\n",
       "    </tr>\n",
       "  </tbody>\n",
       "</table>\n",
       "</div>"
      ],
      "text/plain": [
       "        0                                                  1\n",
       "0  labels  O O O O O B-GeneOrGeneProduct O B-GeneOrGenePr...\n",
       "1   preds  O O O O O B-GeneOrGeneProduct O B-GeneOrGenePr..."
      ]
     },
     "execution_count": 18,
     "metadata": {},
     "output_type": "execute_result"
    }
   ],
   "source": [
    "infer_text_test = pd.read_csv('infer_text_dev_LitCoin_IOB.txt', sep='\\t', header=None)\n",
    "infer_text_test"
   ]
  },
  {
   "cell_type": "code",
   "execution_count": 19,
   "id": "a9b94266-801c-449a-b173-0beedace7bce",
   "metadata": {},
   "outputs": [],
   "source": [
    "TOKEN_LABEL_DIC = {'O':0, 'B-CellLine':1, 'B-ChemicalEntity':2,\n",
    "                   'B-DiseaseOrPhenotypicFeature':3, 'B-GeneOrGeneProduct':4,\n",
    "                   'B-OrganismTaxon':5, 'B-SequenceVariant':6, 'I-CellLine':7,\n",
    "                   'I-ChemicalEntity':8, 'I-DiseaseOrPhenotypicFeature':9,\n",
    "                   'I-GeneOrGeneProduct':10, 'I-OrganismTaxon':11, 'I-SequenceVariant':12}\n",
    "ENTITY_LABEL_DIC = {'O':0, 'B-CellLine':1, 'B-ChemicalEntity':2,\n",
    "                    'B-DiseaseOrPhenotypicFeature':3, 'B-GeneOrGeneProduct':4,\n",
    "                    'B-OrganismTaxon':5, 'B-SequenceVariant':6, 'I-CellLine':1,\n",
    "                    'I-ChemicalEntity':2, 'I-DiseaseOrPhenotypicFeature':3,\n",
    "                    'I-GeneOrGeneProduct':4, 'I-OrganismTaxon':5, 'I-SequenceVariant':6}\n",
    "TOKEN_LABELS = TOKEN_LABEL_DIC.keys()\n",
    "ENTITY_LABELS = ['O', 'CellLine', 'ChemicalEntity', 'DiseaseOrPhenotypicFeature',\n",
    "                 'GeneOrGeneProduct', 'OrganismTaxon', 'SequenceVariant']"
   ]
  },
  {
   "cell_type": "code",
   "execution_count": 20,
   "id": "a7a09107-a61b-4fc2-8720-cd762f7d0803",
   "metadata": {},
   "outputs": [
    {
     "data": {
      "image/png": "[encoded data removed]",
      "text/plain": [
       "<Figure size 1080x576 with 2 Axes>"
      ]
     },
     "metadata": {
      "needs_background": "light"
     },
     "output_type": "display_data"
    }
   ],
   "source": [
    "labels_infer_text_test = infer_text_test[1].iloc[0].split(' ')\n",
    "preds_infer_text_test = infer_text_test[1].iloc[1].split(' ')\n",
    "labels_infer_text_test = [TOKEN_LABEL_DIC[i] for i in labels_infer_text_test]\n",
    "preds_infer_text_test = [TOKEN_LABEL_DIC[i] for i in preds_infer_text_test]\n",
    "\n",
    "confMatrix = confusion_matrix(labels_infer_text_test, preds_infer_text_test)\n",
    "confMatrix = confMatrix / confMatrix.astype(float).sum(axis=0)\n",
    "\n",
    "plt.figure(figsize=(15, 8))\n",
    "ax = sn.heatmap(confMatrix, annot=True, fmt='.2f', xticklabels=TOKEN_LABELS, yticklabels=TOKEN_LABELS)\n",
    "ax.set_xlabel('True')\n",
    "ax.set_ylabel('Predicted')\n",
    "ax.set_title('Token Level Classification')\n",
    "plt.show()"
   ]
  },
  {
   "cell_type": "code",
   "execution_count": 21,
   "id": "7177be8c-3b3b-4e70-a4fb-632e681d6b1e",
   "metadata": {},
   "outputs": [
    {
     "data": {
      "image/png": "[encoded data removed]",
      "text/plain": [
       "<Figure size 1080x576 with 2 Axes>"
      ]
     },
     "metadata": {
      "needs_background": "light"
     },
     "output_type": "display_data"
    }
   ],
   "source": [
    "labels_infer_text_test = infer_text_test[1].iloc[0].split(' ')\n",
    "preds_infer_text_test = infer_text_test[1].iloc[1].split(' ')\n",
    "labels_infer_text_test = [ENTITY_LABEL_DIC[i] for i in labels_infer_text_test]\n",
    "preds_infer_text_test = [ENTITY_LABEL_DIC[i] for i in preds_infer_text_test]\n",
    "\n",
    "confMatrix = confusion_matrix(labels_infer_text_test, preds_infer_text_test)\n",
    "confMatrix = confMatrix / confMatrix.astype(float).sum(axis=0)\n",
    "\n",
    "plt.figure(figsize=(15, 8))\n",
    "ax = sn.heatmap(confMatrix, annot=True, fmt='.2f', xticklabels=ENTITY_LABELS, yticklabels=ENTITY_LABELS)\n",
    "ax.set_xlabel('True')\n",
    "ax.set_ylabel('Predicted')\n",
    "ax.set_title('Entity Level Classification')\n",
    "plt.show()"
   ]
  },
  {
   "cell_type": "code",
   "execution_count": 22,
   "id": "eaa187d2-41f2-4f82-b988-f3677a397018",
   "metadata": {},
   "outputs": [
    {
     "name": "stdout",
     "output_type": "stream",
     "text": [
      "[NeMo I 2022-02-18 23:12:24 token_classification_dataset:121] Setting Max Seq length to: 21\n",
      "[NeMo I 2022-02-18 23:12:24 data_preprocessing:358] Some stats of the lengths of the sequences:\n",
      "[NeMo I 2022-02-18 23:12:24 data_preprocessing:360] Min: 21 |                  Max: 21 |                  Mean: 21.0 |                  Median: 21.0\n",
      "[NeMo I 2022-02-18 23:12:24 data_preprocessing:366] 75 percentile: 21.00\n",
      "[NeMo I 2022-02-18 23:12:24 data_preprocessing:367] 99 percentile: 21.00\n"
     ]
    },
    {
     "name": "stderr",
     "output_type": "stream",
     "text": [
      "[NeMo W 2022-02-18 23:12:24 token_classification_dataset:150] 0 are longer than 21\n"
     ]
    },
    {
     "name": "stdout",
     "output_type": "stream",
     "text": [
      "[NeMo I 2022-02-18 23:12:24 token_classification_dataset:153] *** Example ***\n",
      "[NeMo I 2022-02-18 23:12:24 token_classification_dataset:154] i: 0\n",
      "[NeMo I 2022-02-18 23:12:24 token_classification_dataset:155] subtokens: [CLS] Late - onset meta ##ch ##romatic le ##uk ##ody ##stro ##phy : molecular path ##ology in two siblings . [SEP]\n",
      "[NeMo I 2022-02-18 23:12:24 token_classification_dataset:156] loss_mask: 1 1 1 1 1 1 1 1 1 1 1 1 1 1 1 1 1 1 1 1 1\n",
      "[NeMo I 2022-02-18 23:12:24 token_classification_dataset:157] input_mask: 1 1 1 1 1 1 1 1 1 1 1 1 1 1 1 1 1 1 1 1 1\n",
      "[NeMo I 2022-02-18 23:12:24 token_classification_dataset:158] subtokens_mask: 0 1 0 0 1 0 0 1 0 0 0 0 0 1 1 0 1 1 1 0 0\n",
      "[NeMo I 2022-02-18 23:12:24 token_classification_model:435] Predictions saved to tmp.txt\n"
     ]
    },
    {
     "data": {
      "text/plain": [
       "['Late-onset metachromatic[B-DiseaseOrPhenotypicFeature] leukodystrophy[I-DiseaseOrPhenotypicFeature]: molecular pathology in two siblings.']"
      ]
     },
     "execution_count": 22,
     "metadata": {},
     "output_type": "execute_result"
    }
   ],
   "source": [
    "query = ['Late-onset metachromatic leukodystrophy: molecular pathology in two siblings.']\n",
    "model_ner.add_predictions(queries=query, batch_size=64, output_file='tmp.txt')"
   ]
  }
 ],
 "metadata": {
  "kernelspec": {
   "display_name": "Python 3 (ipykernel)",
   "language": "python",
   "name": "python3"
  },
  "language_info": {
   "codemirror_mode": {
    "name": "ipython",
    "version": 3
   },
   "file_extension": ".py",
   "mimetype": "text/x-python",
   "name": "python",
   "nbconvert_exporter": "python",
   "pygments_lexer": "ipython3",
   "version": "3.8.10"
  }
 },
 "nbformat": 4,
 "nbformat_minor": 5
}
